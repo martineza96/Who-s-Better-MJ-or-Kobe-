{
 "cells": [
  {
   "cell_type": "code",
   "execution_count": 1,
   "metadata": {},
   "outputs": [],
   "source": [
    "import pandas as pd\n",
    "import matplotlib.pyplot as plt\n",
    "import numpy as np\n",
    "import scipy.stats as stats\n",
    "import seaborn as sns"
   ]
  },
  {
   "cell_type": "markdown",
   "metadata": {},
   "source": [
    "Imported all players stats from 1950-2017"
   ]
  },
  {
   "cell_type": "code",
   "execution_count": 2,
   "metadata": {},
   "outputs": [],
   "source": [
    "Season_stats = pd.read_csv('NBA Players Data/Seasons_Stats.csv')"
   ]
  },
  {
   "cell_type": "code",
   "execution_count": 3,
   "metadata": {},
   "outputs": [
    {
     "name": "stdout",
     "output_type": "stream",
     "text": [
      "(24691, 53)\n",
      "(22568, 53)\n"
     ]
    }
   ],
   "source": [
    "# Because of the combined totals for certain players their stats were fluffed .\n",
    "print(Season_stats.shape)\n",
    "# Removed where those rows were\n",
    "Season_stats.drop(Season_stats[Season_stats['Tm'] == 'TOT'].index, inplace = True) \n",
    "print(Season_stats.shape)\n"
   ]
  },
  {
   "cell_type": "code",
   "execution_count": 4,
   "metadata": {},
   "outputs": [],
   "source": [
    "best_scores = Season_stats[['Player','PTS', 'FG','FG%','USG%','PER','3P%','2P%','3PAr','TS%','MP','FT%','OWS']]"
   ]
  },
  {
   "cell_type": "markdown",
   "metadata": {},
   "source": [
    "The most poins and thier overall FG%"
   ]
  },
  {
   "cell_type": "code",
   "execution_count": 5,
   "metadata": {},
   "outputs": [],
   "source": [
    "fg_tot = pd.DataFrame(best_scores.groupby('Player')['FG%'].mean())\n",
    "score = pd.DataFrame(best_scores.groupby('Player')['PTS'].sum())\n",
    "score = score.merge(fg_tot,on='Player')\n",
    "score = score.sort_values(by='PTS',ascending=False).head(10)\n",
    "score\n",
    "# This table is innaccurate. There were 3 Eddie jhonsons who were comnbined into one player\n",
    "# Because none of them individually would make it to top 10. We  can drop them from the table\n",
    "\n",
    "score.drop('Eddie Johnson',inplace=True)\n",
    "score = score.reset_index()"
   ]
  },
  {
   "cell_type": "code",
   "execution_count": 6,
   "metadata": {},
   "outputs": [],
   "source": [
    "def remove_star(string):\n",
    "    if '*' in string:\n",
    "        string = string.replace('*','')\n",
    "    return string\n",
    "    "
   ]
  },
  {
   "cell_type": "code",
   "execution_count": 7,
   "metadata": {},
   "outputs": [
    {
     "data": {
      "text/html": [
       "<div>\n",
       "<style scoped>\n",
       "    .dataframe tbody tr th:only-of-type {\n",
       "        vertical-align: middle;\n",
       "    }\n",
       "\n",
       "    .dataframe tbody tr th {\n",
       "        vertical-align: top;\n",
       "    }\n",
       "\n",
       "    .dataframe thead th {\n",
       "        text-align: right;\n",
       "    }\n",
       "</style>\n",
       "<table border=\"1\" class=\"dataframe\">\n",
       "  <thead>\n",
       "    <tr style=\"text-align: right;\">\n",
       "      <th></th>\n",
       "      <th>Player</th>\n",
       "      <th>PTS</th>\n",
       "      <th>FG%</th>\n",
       "    </tr>\n",
       "  </thead>\n",
       "  <tbody>\n",
       "    <tr>\n",
       "      <th>0</th>\n",
       "      <td>Kareem Abdul-Jabbar</td>\n",
       "      <td>38387.0</td>\n",
       "      <td>0.558350</td>\n",
       "    </tr>\n",
       "    <tr>\n",
       "      <th>1</th>\n",
       "      <td>Karl Malone</td>\n",
       "      <td>36928.0</td>\n",
       "      <td>0.512895</td>\n",
       "    </tr>\n",
       "    <tr>\n",
       "      <th>2</th>\n",
       "      <td>Kobe Bryant</td>\n",
       "      <td>33643.0</td>\n",
       "      <td>0.441400</td>\n",
       "    </tr>\n",
       "    <tr>\n",
       "      <th>3</th>\n",
       "      <td>Michael Jordan</td>\n",
       "      <td>32292.0</td>\n",
       "      <td>0.488267</td>\n",
       "    </tr>\n",
       "    <tr>\n",
       "      <th>4</th>\n",
       "      <td>Wilt Chamberlain</td>\n",
       "      <td>31419.0</td>\n",
       "      <td>0.563000</td>\n",
       "    </tr>\n",
       "    <tr>\n",
       "      <th>5</th>\n",
       "      <td>Dirk Nowitzki</td>\n",
       "      <td>30260.0</td>\n",
       "      <td>0.468842</td>\n",
       "    </tr>\n",
       "    <tr>\n",
       "      <th>6</th>\n",
       "      <td>LeBron James</td>\n",
       "      <td>28787.0</td>\n",
       "      <td>0.503571</td>\n",
       "    </tr>\n",
       "    <tr>\n",
       "      <th>7</th>\n",
       "      <td>Shaquille O'Neal</td>\n",
       "      <td>28596.0</td>\n",
       "      <td>0.587150</td>\n",
       "    </tr>\n",
       "    <tr>\n",
       "      <th>8</th>\n",
       "      <td>Moses Malone</td>\n",
       "      <td>27409.0</td>\n",
       "      <td>0.470947</td>\n",
       "    </tr>\n",
       "  </tbody>\n",
       "</table>\n",
       "</div>"
      ],
      "text/plain": [
       "                Player      PTS       FG%\n",
       "0  Kareem Abdul-Jabbar  38387.0  0.558350\n",
       "1          Karl Malone  36928.0  0.512895\n",
       "2          Kobe Bryant  33643.0  0.441400\n",
       "3       Michael Jordan  32292.0  0.488267\n",
       "4     Wilt Chamberlain  31419.0  0.563000\n",
       "5        Dirk Nowitzki  30260.0  0.468842\n",
       "6         LeBron James  28787.0  0.503571\n",
       "7     Shaquille O'Neal  28596.0  0.587150\n",
       "8         Moses Malone  27409.0  0.470947"
      ]
     },
     "execution_count": 7,
     "metadata": {},
     "output_type": "execute_result"
    }
   ],
   "source": [
    "score.Player = score.Player.map(remove_star)\n",
    "score"
   ]
  },
  {
   "cell_type": "code",
   "execution_count": null,
   "metadata": {},
   "outputs": [],
   "source": []
  },
  {
   "cell_type": "markdown",
   "metadata": {},
   "source": [
    "Simple Bar graph of most points"
   ]
  },
  {
   "cell_type": "code",
   "execution_count": 8,
   "metadata": {},
   "outputs": [
    {
     "data": {
      "text/plain": [
       "Text(0, 0.5, 'Total Points')"
      ]
     },
     "execution_count": 8,
     "metadata": {},
     "output_type": "execute_result"
    },
    {
     "data": {
      "image/png": "[encoded data removed]",
      "text/plain": [
       "<Figure size 432x288 with 1 Axes>"
      ]
     },
     "metadata": {
      "needs_background": "light"
     },
     "output_type": "display_data"
    }
   ],
   "source": [
    "score['PTS'].plot.bar()\n",
    "plt.ylabel('Total Points')"
   ]
  },
  {
   "cell_type": "markdown",
   "metadata": {},
   "source": [
    "Points to FG%"
   ]
  },
  {
   "cell_type": "code",
   "execution_count": 9,
   "metadata": {},
   "outputs": [],
   "source": [
    "#axes = score[['PTS','FG%']].plot.bar(color=['r','b'])\n",
    "from matplotlib import cm\n",
    "from matplotlib import rc,rcParams\n",
    "color = cm.magma_r(np.linspace(0.2,0.6,30))\n",
    "\n",
    "\n",
    "#ax.xaxis.set_tick_params(labelsize=100)\n",
    "#plt.yaxis.set_tick_params(labelsize=50)\n",
    "\n",
    "\n",
    "# score.set_index('Player').plot(kind='bar', color=color, legend=False, figsize=(12, 6),edgecolor='black',rot=32,width=1.2)\n",
    "# plt.title('Top Scorers in NBA History',fontsize=20)\n",
    "# ax.set_xticklabels(list(range(10)))\n",
    "# plt.ylabel('Total Points',fontsize=15)\n",
    "# plt.tight_layout()\n",
    "#plt.savefig('Top Scorers in NBA History ')\n",
    "#clear stars"
   ]
  },
  {
   "cell_type": "code",
   "execution_count": 10,
   "metadata": {},
   "outputs": [],
   "source": [
    "color = cm.viridis_r(np.linspace(0.3,0.9,15))"
   ]
  },
  {
   "cell_type": "code",
   "execution_count": 11,
   "metadata": {},
   "outputs": [
    {
     "data": {
      "image/png": "[encoded data removed]",
      "text/plain": [
       "<Figure size 864x432 with 1 Axes>"
      ]
     },
     "metadata": {
      "needs_background": "light"
     },
     "output_type": "display_data"
    }
   ],
   "source": [
    "# import matplotlib\n",
    "# font = {'family' : 'normal',\n",
    "#         'size'   : 22}\n",
    "\n",
    "# matplotlib.rc('font', **font)\n",
    "fig, ax = plt.subplots(figsize=(12,6))\n",
    "y_pos = np.arange(len(score['Player']))\n",
    "ax.barh(score['Player'],score['PTS'],color=color,ec='black',capstyle='projecting')\n",
    "ax.set_yticks(y_pos)\n",
    "ax.set_xlabel('# of Points')\n",
    "ax.invert_yaxis()\n",
    "plt.tight_layout()\n",
    "plt.title('Most Points in NBA history',fontsize=20)\n",
    "#plt.savefig('Most Points in NBA History')\n",
    "plt.show()"
   ]
  },
  {
   "cell_type": "markdown",
   "metadata": {},
   "source": [
    "Kareem Abdul-Jabbar is the NBA all time leader in points. With this stat alone you may think that he is the greatest because of it. However when played, between 1970 and 1989 , the leage average height started at 197 inches to 200 inches by the time he retired. Kareem stood 218 inches tall which was significatly taller thanmost of the League in his time. "
   ]
  },
  {
   "cell_type": "code",
   "execution_count": 12,
   "metadata": {},
   "outputs": [],
   "source": [
    "df2 = pd.read_csv('NBA Players Data/Players.csv')"
   ]
  },
  {
   "cell_type": "code",
   "execution_count": 13,
   "metadata": {},
   "outputs": [],
   "source": [
    "df3 = df2.merge(Season_stats,on='Player')"
   ]
  },
  {
   "cell_type": "code",
   "execution_count": null,
   "metadata": {},
   "outputs": [],
   "source": []
  },
  {
   "cell_type": "code",
   "execution_count": 14,
   "metadata": {},
   "outputs": [],
   "source": [
    "def change_to_inches(num):\n",
    "    num = round((num / 100000) * 39370 , 0)\n",
    "    return num\n",
    "    "
   ]
  },
  {
   "cell_type": "code",
   "execution_count": null,
   "metadata": {},
   "outputs": [],
   "source": []
  },
  {
   "cell_type": "code",
   "execution_count": 15,
   "metadata": {},
   "outputs": [
    {
     "data": {
      "image/png": "[encoded data removed]",
      "text/plain": [
       "<Figure size 504x432 with 1 Axes>"
      ]
     },
     "metadata": {
      "needs_background": "light"
     },
     "output_type": "display_data"
    }
   ],
   "source": [
    "df4 = df3[['Year','height']].groupby((df3.Year//2)*10).mean().astype(int)\n",
    "df4.height = df4.height.map(change_to_inches)\n",
    "x = df4['Year']\n",
    "y = df4['height']\n",
    "a = np.array(x)\n",
    "ab = np.where(np.logical_and(a>=1970,a<=1989))\n",
    "a[ab]\n",
    "b = np.array(y)\n",
    "b[ab]\n",
    "fig, ax = plt.subplots(figsize=(7,6))\n",
    "\n",
    "ax.plot(x, y, color='black')\n",
    "ax.fill_between(a[ab],b[ab],\n",
    "                  facecolor='red', alpha=0.5)\n",
    "ax.set_ylim(74,80)\n",
    "ax.set_xlim(1952,2000)\n",
    "# # plt.show()\n",
    "# # Copy to clipboard\n",
    "ax.set_ylabel(\"Average League Height\",fontsize=13)\n",
    "ax.set_xlabel('NBA Season',fontsize=12)\n",
    "ax.legend(['League Average (Mean)','Kareem Abdul Jabar seasons'])\n",
    "ax.set_title(\"Kareem Abdul Jabar's 86\\\" Advantage\",fontsize=20)\n",
    "ax.grid('on')\n",
    "plt.tight_layout()\n",
    "#plt.savefig('Kareem Abdul Advantage')\n",
    "# add mean to league average"
   ]
  },
  {
   "cell_type": "markdown",
   "metadata": {},
   "source": [
    "Karal Malone is holds the Record for most points for a PF in NBA Histroy. He was one of the best players to ever play the position."
   ]
  },
  {
   "cell_type": "code",
   "execution_count": 16,
   "metadata": {},
   "outputs": [],
   "source": [
    "pf = Season_stats[['Player','Pos','PTS']]\n",
    "pf = pf[pf['Pos'] == 'PF']\n",
    "pf = pf.groupby('Player').sum().sort_values(by='PTS',ascending=False).head(3)\n",
    "# pf.plot.bar(subplots=True)\n",
    "# plt.ylabel('Total Carear Points')\n",
    "# pallete = ('summer')\n",
    "pf = pf.reset_index()\n"
   ]
  },
  {
   "cell_type": "code",
   "execution_count": 17,
   "metadata": {},
   "outputs": [
    {
     "data": {
      "text/html": [
       "<div>\n",
       "<style scoped>\n",
       "    .dataframe tbody tr th:only-of-type {\n",
       "        vertical-align: middle;\n",
       "    }\n",
       "\n",
       "    .dataframe tbody tr th {\n",
       "        vertical-align: top;\n",
       "    }\n",
       "\n",
       "    .dataframe thead th {\n",
       "        text-align: right;\n",
       "    }\n",
       "</style>\n",
       "<table border=\"1\" class=\"dataframe\">\n",
       "  <thead>\n",
       "    <tr style=\"text-align: right;\">\n",
       "      <th></th>\n",
       "      <th>Player</th>\n",
       "      <th>PTS</th>\n",
       "    </tr>\n",
       "  </thead>\n",
       "  <tbody>\n",
       "    <tr>\n",
       "      <th>0</th>\n",
       "      <td>Karl Malone*</td>\n",
       "      <td>36928.0</td>\n",
       "    </tr>\n",
       "    <tr>\n",
       "      <th>1</th>\n",
       "      <td>Dirk Nowitzki</td>\n",
       "      <td>26801.0</td>\n",
       "    </tr>\n",
       "    <tr>\n",
       "      <th>2</th>\n",
       "      <td>Kevin Garnett</td>\n",
       "      <td>21624.0</td>\n",
       "    </tr>\n",
       "  </tbody>\n",
       "</table>\n",
       "</div>"
      ],
      "text/plain": [
       "          Player      PTS\n",
       "0   Karl Malone*  36928.0\n",
       "1  Dirk Nowitzki  26801.0\n",
       "2  Kevin Garnett  21624.0"
      ]
     },
     "execution_count": 17,
     "metadata": {},
     "output_type": "execute_result"
    }
   ],
   "source": [
    "pf"
   ]
  },
  {
   "cell_type": "code",
   "execution_count": 18,
   "metadata": {},
   "outputs": [],
   "source": [
    "# fig, ax = plt.subplots(figsize=(10,5))\n",
    "# sns.set_theme(style=\"whitegrid\")\n",
    "# ax = sns.barplot(y=pf['PTS'],x=pf['Player'],palette='rocket',edgecolor='black')\n",
    "# ax.set_title('Highest Scoring PF\\'s')\n",
    "# ax.set_xlabel('')\n",
    "# ax.set_ylabel('Points')\n",
    "# # these are matplotlib.patch.Patch properties\n",
    "# props = dict(boxstyle='round', facecolor='wheat', alpha=0.5)\n",
    "# # place a text box in upper left in axes coords\n",
    "# ax.text(0.4, 0.95, 'Karl Malone had 10,127 more\\n points than the next closest PF.', transform=ax.transAxes, fontsize=12,\n",
    "#         verticalalignment='top', bbox=props)\n"
   ]
  },
  {
   "cell_type": "markdown",
   "metadata": {},
   "source": [
    "The next two people in line are kobe bryant and michael jordan. Both players played the same position and were the same hight. How similar were they though. Compared to the rest of the leage greats they stand alone. But how about compared to eachother."
   ]
  },
  {
   "cell_type": "code",
   "execution_count": 19,
   "metadata": {},
   "outputs": [
    {
     "data": {
      "image/png": "[encoded data removed]",
      "text/plain": [
       "<Figure size 720x360 with 1 Axes>"
      ]
     },
     "metadata": {
      "needs_background": "light"
     },
     "output_type": "display_data"
    }
   ],
   "source": [
    "fig, ax = plt.subplots(figsize=(10,5))\n",
    "sns.set_theme(style=\"whitegrid\")\n",
    "ax = sns.barplot(y=pf['Player'],x=pf['PTS'],palette='rocket',edgecolor='black',orient='h')\n",
    "ax.set_title('Highest Scoring PF\\'s',fontsize=15)\n",
    "ax.set_xlabel('Points',fontsize=13)\n",
    "ax.set_ylabel('')\n",
    "# these are matplotlib.patch.Patch properties\n",
    "props = dict(boxstyle='round', facecolor='wheat', alpha=0.5)\n",
    "# place a text box in upper left in axes coords\n",
    "ax.text(0.7, 0.28, 'Karl Malone has 10,127\\n more points than the\\n next closest PF.', transform=ax.transAxes, fontsize=14,\n",
    "        verticalalignment='top', bbox=props)\n",
    "plt.tight_layout()\n",
    "#plt.savefig('Highest scoring Power Forward\\'s')"
   ]
  },
  {
   "cell_type": "code",
   "execution_count": 20,
   "metadata": {},
   "outputs": [],
   "source": [
    "height = df3[df3['height'] == 198.0]\n",
    "points_ = height[['Player','PTS']].groupby('Player').sum().sort_values(by='PTS',ascending=False).head(10)\n",
    "steals_ = height[['Player','STL']].groupby('Player').sum().sort_values(by='STL',ascending=False).head(10)\n",
    "reb_ = height[['Player','TRB']].groupby('Player').sum().sort_values(by='TRB',ascending=False).head(10)\n",
    "ast_ = height[['Player','AST']].groupby('Player').sum().sort_values(by='AST',ascending=False).head(10)\n",
    "blk_ = height[['Player','BLK']].groupby('Player').sum().sort_values(by='BLK',ascending=False).head(10)"
   ]
  },
  {
   "cell_type": "code",
   "execution_count": 21,
   "metadata": {},
   "outputs": [],
   "source": [
    "o = pd.concat([points_,steals_,reb_,ast_,blk_],axis=1,join='inner')"
   ]
  },
  {
   "cell_type": "code",
   "execution_count": 22,
   "metadata": {},
   "outputs": [
    {
     "name": "stdout",
     "output_type": "stream",
     "text": [
      "[0.3750947687642153, 0.36003210988716944, 0.26487312134861524]\n",
      "[0.3183753684900098, 0.41172617097936454, 0.2698984605306256]\n",
      "[0.2683038263849229, 0.25402627070245576, 0.47766990291262135]\n",
      "[0.3903677107837068, 0.3487062027980686, 0.26092608641822457]\n"
     ]
    }
   ],
   "source": [
    "arr1 = np.array(o['PTS'])\n",
    "lst1 = []\n",
    "for num in arr1:\n",
    "    a = arr1.sum()\n",
    "    lst1.append(num / a)\n",
    "print(lst1)\n",
    "names = ['Kobe Bryant','Michael Jordan','Charles Barkley']\n",
    "explode1 = (0.1,0,0)\n",
    "\n",
    "arr2 = np.array(o['STL'])\n",
    "lst2 = []\n",
    "for num in arr2:\n",
    "    a = arr2.sum()\n",
    "    lst2.append(num / a)\n",
    "print(lst2)\n",
    "explode2 = (0,0.1,0)\n",
    "\n",
    "\n",
    "arr3 = np.array(o['TRB'])\n",
    "lst3 = []\n",
    "for num in arr3:\n",
    "    a = arr3.sum()\n",
    "    lst3.append(num / a)\n",
    "print(lst3)\n",
    "explode3 = (0,0,0.1)\n",
    "\n",
    "\n",
    "arr4 = np.array(o['AST'])\n",
    "lst4 = []\n",
    "for num in arr4:\n",
    "    a = arr4.sum()\n",
    "    lst4.append(num / a)\n",
    "print(lst4)\n",
    "explode4 = (0.1,0,0)\n"
   ]
  },
  {
   "cell_type": "code",
   "execution_count": 23,
   "metadata": {},
   "outputs": [],
   "source": [
    "colors = ['darkviolet','tab:red','orange']"
   ]
  },
  {
   "cell_type": "code",
   "execution_count": null,
   "metadata": {},
   "outputs": [],
   "source": []
  },
  {
   "cell_type": "code",
   "execution_count": 24,
   "metadata": {},
   "outputs": [
    {
     "data": {
      "image/png": "[encoded data removed]",
      "text/plain": [
       "<Figure size 864x720 with 4 Axes>"
      ]
     },
     "metadata": {},
     "output_type": "display_data"
    }
   ],
   "source": [
    "fig1, ax1 = plt.subplots(2,2,figsize=(12,10))\n",
    "\n",
    "ax1[0,0].pie(lst1,colors=colors, explode=explode1, autopct='%1.1f%%',\n",
    "        shadow=True, startangle=90)\n",
    "\n",
    "ax1[0,0].set_title('Points',fontsize=16)\n",
    "ax1[0,0].axis('equal')  # Equal aspect ratio ensures that pie is drawn as a circle.\n",
    "\n",
    "\n",
    "ax1[0,1].pie(lst2,colors=colors,explode=explode2,autopct='%1.1f%%',\n",
    "        shadow=True, startangle=90)\n",
    "ax1[0,1].set_title('Steals',fontsize=16)\n",
    "ax1[0,1].axis('equal')  # Equal aspect ratio ensures that pie is drawn as a circle.\n",
    "\n",
    "ax1[1,0].pie(lst3,colors=colors,explode=explode3,autopct='%1.1f%%',\n",
    "        shadow=True, startangle=90,normalize=False)\n",
    "ax1[1,0].set_title('Rebounds',fontsize=16)\n",
    "ax1[1,0].axis('equal')  # Equal aspect ratio ensures that pie is drawn as a circle.\n",
    "\n",
    "ax1[1,1].pie(lst4,colors=colors,explode=explode4,autopct='%1.1f%%',\n",
    "        shadow=True, startangle=90,normalize=False)\n",
    "ax1[1,1].set_title('Assists',fontsize=16)\n",
    "ax1[1,1].axis('equal')  # Equal aspect ratio ensures that pie is drawn as a circle.\n",
    "\n",
    "ttl = plt.suptitle('Combined Points, Steals, Rebounds, Assists',fontsize=20)\n",
    "ttl.set_position([.5,1.05])\n",
    "plt.legend(names,loc=(.95,1),prop={'size': 20})\n",
    "plt.tight_layout()\n",
    "#plt.savefig('Kobe MJ and Charles Barkley')\n",
    "plt.show()\n"
   ]
  },
  {
   "cell_type": "markdown",
   "metadata": {},
   "source": [
    "# Better by Points"
   ]
  },
  {
   "cell_type": "code",
   "execution_count": 25,
   "metadata": {},
   "outputs": [],
   "source": [
    "mj_lebron_kobe = pd.read_csv('Who is the Goat?/allgames_stats.csv')"
   ]
  },
  {
   "cell_type": "code",
   "execution_count": 26,
   "metadata": {},
   "outputs": [],
   "source": [
    "mj_full = mj_lebron_kobe[mj_lebron_kobe['Player'] == 'Michael Jordan']\n",
    "kobe_full = mj_lebron_kobe[mj_lebron_kobe['Player'] == 'Kobe Bryant']\n",
    "lebron_full = mj_lebron_kobe[mj_lebron_kobe['Player'] == 'Lebron James']"
   ]
  },
  {
   "cell_type": "code",
   "execution_count": null,
   "metadata": {},
   "outputs": [],
   "source": []
  },
  {
   "cell_type": "code",
   "execution_count": 27,
   "metadata": {},
   "outputs": [],
   "source": [
    "def str_to_number(time_str):\n",
    "    if not isinstance(time_str, str):\n",
    "        return 0\n",
    "    minutes, sec, *_ = [int(x) for x in time_str.split(':')]\n",
    "    return minutes + sec / 60\n"
   ]
  },
  {
   "cell_type": "code",
   "execution_count": 28,
   "metadata": {},
   "outputs": [
    {
     "name": "stderr",
     "output_type": "stream",
     "text": [
      "/Users/AlexMartinez/opt/anaconda3/lib/python3.7/site-packages/pandas/core/generic.py:5168: SettingWithCopyWarning: \n",
      "A value is trying to be set on a copy of a slice from a DataFrame.\n",
      "Try using .loc[row_indexer,col_indexer] = value instead\n",
      "\n",
      "See the caveats in the documentation: https://pandas.pydata.org/pandas-docs/stable/user_guide/indexing.html#returning-a-view-versus-a-copy\n",
      "  self[name] = value\n"
     ]
    }
   ],
   "source": [
    "mj_full.MP = mj_full.MP.map(str_to_number)\n",
    "kobe_full.MP = kobe_full.MP.map(str_to_number)\n",
    "lebron_full.MP = lebron_full.MP.map(str_to_number)"
   ]
  },
  {
   "cell_type": "code",
   "execution_count": null,
   "metadata": {},
   "outputs": [],
   "source": []
  },
  {
   "cell_type": "code",
   "execution_count": 29,
   "metadata": {},
   "outputs": [],
   "source": [
    "mj_over_20min = mj_full[mj_full['MP'] > 20]\n",
    "kobe_over_20min = kobe_full[kobe_full['MP'] > 20]\n",
    "lebron_over_20min = lebron_full[lebron_full['MP'] > 20]"
   ]
  },
  {
   "cell_type": "code",
   "execution_count": null,
   "metadata": {},
   "outputs": [],
   "source": []
  },
  {
   "cell_type": "code",
   "execution_count": 30,
   "metadata": {},
   "outputs": [],
   "source": [
    "mj_pts = mj_over_20min['PTS'].dropna()\n",
    "kobe_pts = kobe_over_20min['PTS'].dropna()"
   ]
  },
  {
   "cell_type": "code",
   "execution_count": 31,
   "metadata": {},
   "outputs": [
    {
     "data": {
      "text/plain": [
       "Ttest_indResult(statistic=-12.14347959783353, pvalue=4.4125241537750846e-33)"
      ]
     },
     "execution_count": 31,
     "metadata": {},
     "output_type": "execute_result"
    }
   ],
   "source": [
    "x = stats.ttest_ind(kobe_pts,mj_pts)\n",
    "x"
   ]
  },
  {
   "cell_type": "code",
   "execution_count": null,
   "metadata": {},
   "outputs": [],
   "source": []
  },
  {
   "cell_type": "markdown",
   "metadata": {},
   "source": [
    "# Man Whitney Test"
   ]
  },
  {
   "cell_type": "code",
   "execution_count": 32,
   "metadata": {},
   "outputs": [],
   "source": [
    "def count_winning_pairs(sample_1, sample_2):\n",
    "    sample_1, sample_2 = np.array(sample_1), np.array(sample_2)\n",
    "    n_total_wins = 0\n",
    "    for x in sample_1:\n",
    "        n_wins = np.sum(x > sample_2) + 0.5*np.sum(x == sample_2)\n",
    "        n_total_wins += n_wins\n",
    "    return n_total_wins"
   ]
  },
  {
   "cell_type": "code",
   "execution_count": 33,
   "metadata": {},
   "outputs": [
    {
     "name": "stdout",
     "output_type": "stream",
     "text": [
      "Number of MJ Wins: 1163381.5\n",
      "Number of Kobe Wins: 663422.5\n"
     ]
    }
   ],
   "source": [
    "mj_wins_pts = count_winning_pairs(mj_pts, kobe_pts)\n",
    "kobe_wins_pts = count_winning_pairs(kobe_pts, mj_pts)\n",
    "print(\"Number of MJ Wins: {}\".format(mj_wins_pts))\n",
    "print(\"Number of Kobe Wins: {}\".format(kobe_wins_pts)) "
   ]
  },
  {
   "cell_type": "code",
   "execution_count": 34,
   "metadata": {},
   "outputs": [
    {
     "name": "stdout",
     "output_type": "stream",
     "text": [
      "MannwhitneyuResult(statistic=1163381.5, pvalue=4.5404005782192395e-35)\n",
      "p-value for MJ < Kobe: 0.000\n"
     ]
    }
   ],
   "source": [
    "res = stats.mannwhitneyu(mj_pts, kobe_pts, alternative=\"greater\")\n",
    "print(res)\n",
    "print(\"p-value for MJ < Kobe: {:2.3f}\".format(res.pvalue))"
   ]
  },
  {
   "cell_type": "markdown",
   "metadata": {},
   "source": [
    "# Better by Rebounds"
   ]
  },
  {
   "cell_type": "markdown",
   "metadata": {},
   "source": [
    "- A rebound is awarded to a player who retrieves the ball after a missed field goal or free throw. These can be awarded on both offence and defense and can be extremely important in a single game"
   ]
  },
  {
   "cell_type": "code",
   "execution_count": 35,
   "metadata": {},
   "outputs": [],
   "source": [
    "mj_reb = mj_over_20min['TRB']\n",
    "kobe_reb = kobe_over_20min['TRB']"
   ]
  },
  {
   "cell_type": "code",
   "execution_count": null,
   "metadata": {},
   "outputs": [],
   "source": []
  },
  {
   "cell_type": "code",
   "execution_count": 36,
   "metadata": {},
   "outputs": [
    {
     "data": {
      "text/plain": [
       "Ttest_indResult(statistic=-7.948122327547394, pvalue=2.7486057812105945e-15)"
      ]
     },
     "execution_count": 36,
     "metadata": {},
     "output_type": "execute_result"
    }
   ],
   "source": [
    "y = stats.ttest_ind(kobe_reb,mj_reb)\n",
    "y"
   ]
  },
  {
   "cell_type": "code",
   "execution_count": 37,
   "metadata": {},
   "outputs": [
    {
     "name": "stdout",
     "output_type": "stream",
     "text": [
      "MannwhitneyuResult(statistic=1073599.0, pvalue=1.0903906067324378e-14)\n",
      "p-value for MJ < Kobe: 0.000\n"
     ]
    }
   ],
   "source": [
    "res2 = stats.mannwhitneyu(mj_reb, kobe_reb, alternative=\"greater\")\n",
    "print(res2)\n",
    "print(\"p-value for MJ < Kobe: {:2.3f}\".format(res2.pvalue))"
   ]
  },
  {
   "cell_type": "code",
   "execution_count": 38,
   "metadata": {},
   "outputs": [
    {
     "name": "stdout",
     "output_type": "stream",
     "text": [
      "Number of MJ Wins: 1073599.0\n",
      "Number of Kobe Wins: 763593.0\n"
     ]
    }
   ],
   "source": [
    "mj_wins_reb = count_winning_pairs(mj_reb, kobe_reb)\n",
    "kobe_wins_reb = count_winning_pairs(kobe_reb, mj_reb)\n",
    "print(\"Number of MJ Wins: {}\".format(mj_wins_reb))\n",
    "print(\"Number of Kobe Wins: {}\".format(kobe_wins_reb)) "
   ]
  },
  {
   "cell_type": "markdown",
   "metadata": {},
   "source": [
    "# Better by assists"
   ]
  },
  {
   "cell_type": "code",
   "execution_count": 39,
   "metadata": {},
   "outputs": [],
   "source": [
    "mj_ast = mj_over_20min['AST']\n",
    "kobe_ast = kobe_over_20min['AST']"
   ]
  },
  {
   "cell_type": "code",
   "execution_count": 40,
   "metadata": {},
   "outputs": [
    {
     "data": {
      "text/plain": [
       "Ttest_indResult(statistic=-4.3567781310809925, pvalue=1.3688054607231231e-05)"
      ]
     },
     "execution_count": 40,
     "metadata": {},
     "output_type": "execute_result"
    }
   ],
   "source": [
    "z = stats.ttest_ind(kobe_ast,mj_ast)\n",
    "z"
   ]
  },
  {
   "cell_type": "code",
   "execution_count": 41,
   "metadata": {},
   "outputs": [
    {
     "name": "stdout",
     "output_type": "stream",
     "text": [
      "MannwhitneyuResult(statistic=1006312.5, pvalue=7.588436524517679e-06)\n",
      "p-value for MJ < Kobe: 0.000\n"
     ]
    }
   ],
   "source": [
    "res3 = stats.mannwhitneyu(mj_ast, kobe_ast, alternative=\"greater\")\n",
    "print(res3)\n",
    "print(\"p-value for MJ < Kobe: {:2.3f}\".format(res3.pvalue))"
   ]
  },
  {
   "cell_type": "code",
   "execution_count": 42,
   "metadata": {},
   "outputs": [
    {
     "name": "stdout",
     "output_type": "stream",
     "text": [
      "Number of MJ Wins: 1006312.5\n",
      "Number of Kobe Wins: 830879.5\n"
     ]
    }
   ],
   "source": [
    "mj_wins_ast = count_winning_pairs(mj_ast, kobe_ast)\n",
    "kobe_wins_ast = count_winning_pairs(kobe_ast, mj_ast)\n",
    "print(\"Number of MJ Wins: {}\".format(mj_wins_ast))\n",
    "print(\"Number of Kobe Wins: {}\".format(kobe_wins_ast))"
   ]
  },
  {
   "cell_type": "markdown",
   "metadata": {},
   "source": [
    "# Better overall GmSc in carear"
   ]
  },
  {
   "cell_type": "markdown",
   "metadata": {},
   "source": [
    "GmSc - Game Score; the formula is PTS + 0.4 * FG - 0.7 * FGA - 0.4*(FTA - FT) + 0.7 * ORB + 0.3 * DRB + STL + 0.7 * AST + 0.7 * BLK - 0.4 * PF - TOV. Game Score was created by John Hollinger to give a rough measure of a player's productivity for a single game."
   ]
  },
  {
   "cell_type": "code",
   "execution_count": 43,
   "metadata": {},
   "outputs": [],
   "source": [
    "mj_gmsc = mj_over_20min['GmSc'].dropna()\n",
    "kobe_gmsc = kobe_over_20min['GmSc'].dropna()"
   ]
  },
  {
   "cell_type": "code",
   "execution_count": 44,
   "metadata": {},
   "outputs": [
    {
     "data": {
      "text/plain": [
       "Ttest_indResult(statistic=13.517910169128047, pvalue=2.9413250225125603e-40)"
      ]
     },
     "execution_count": 44,
     "metadata": {},
     "output_type": "execute_result"
    }
   ],
   "source": [
    "g = stats.ttest_ind(mj_gmsc,kobe_gmsc)\n",
    "g"
   ]
  },
  {
   "cell_type": "code",
   "execution_count": 45,
   "metadata": {},
   "outputs": [
    {
     "name": "stdout",
     "output_type": "stream",
     "text": [
      "MannwhitneyuResult(statistic=1023460.5, pvalue=8.970248616618039e-41)\n",
      "p-value for MJ < Kobe: 0.000\n"
     ]
    }
   ],
   "source": [
    "res4 = stats.mannwhitneyu(mj_gmsc, kobe_gmsc, alternative=\"greater\")\n",
    "print(res4)\n",
    "print(\"p-value for MJ < Kobe: {:2.3f}\".format(res4.pvalue))"
   ]
  },
  {
   "cell_type": "code",
   "execution_count": 46,
   "metadata": {},
   "outputs": [
    {
     "name": "stdout",
     "output_type": "stream",
     "text": [
      "Number of MJ Wins: 1023460.5\n",
      "Number of Kobe Wins: 539191.5\n"
     ]
    }
   ],
   "source": [
    "mj_wins_gmsc = count_winning_pairs(mj_gmsc, kobe_gmsc)\n",
    "kobe_wins_gmsc = count_winning_pairs(kobe_gmsc, mj_gmsc)\n",
    "print(\"Number of MJ Wins: {}\".format(mj_wins_gmsc))\n",
    "print(\"Number of Kobe Wins: {}\".format(kobe_wins_gmsc))"
   ]
  },
  {
   "cell_type": "markdown",
   "metadata": {},
   "source": [
    "# Win to Loss comparison"
   ]
  },
  {
   "cell_type": "markdown",
   "metadata": {},
   "source": [
    "- Winning and losing in basketball is something people bring up in these debates however winning and loosing doesnt fall on the shoulder of just one player. Its a team game. But players like Kobe and MJ do have an impact on the games they play in. So we will be comparing thier wins and losses to each other"
   ]
  },
  {
   "cell_type": "code",
   "execution_count": 47,
   "metadata": {},
   "outputs": [],
   "source": [
    "def wins_losses_to_num(res):\n",
    "    if res == 'W':\n",
    "        return 1\n",
    "    else:\n",
    "        return 0\n",
    "    \n",
    "    "
   ]
  },
  {
   "cell_type": "code",
   "execution_count": 48,
   "metadata": {},
   "outputs": [],
   "source": [
    "mj_w_l = mj_over_20min.Result.map(wins_losses_to_num)\n",
    "kobe_w_l = kobe_over_20min.Result.map(wins_losses_to_num)"
   ]
  },
  {
   "cell_type": "code",
   "execution_count": 49,
   "metadata": {},
   "outputs": [
    {
     "data": {
      "text/plain": [
       "Ttest_indResult(statistic=2.3679163356016453, pvalue=0.017958149062341604)"
      ]
     },
     "execution_count": 49,
     "metadata": {},
     "output_type": "execute_result"
    }
   ],
   "source": [
    "l = stats.ttest_ind(mj_w_l,kobe_w_l)\n",
    "l"
   ]
  },
  {
   "cell_type": "code",
   "execution_count": 50,
   "metadata": {},
   "outputs": [
    {
     "name": "stdout",
     "output_type": "stream",
     "text": [
      "MannwhitneyuResult(statistic=958794.0, pvalue=0.008993519069513713)\n",
      "p-value for MJ < Kobe: 0.009\n"
     ]
    }
   ],
   "source": [
    "res5 = stats.mannwhitneyu(mj_w_l, kobe_w_l, alternative=\"greater\")\n",
    "print(res5)\n",
    "print(\"p-value for MJ < Kobe: {:2.3f}\".format(res5.pvalue))"
   ]
  },
  {
   "cell_type": "code",
   "execution_count": 51,
   "metadata": {},
   "outputs": [
    {
     "name": "stdout",
     "output_type": "stream",
     "text": [
      "Number of MJ Wins: 958794.0\n",
      "Number of Kobe Wins: 878398.0\n"
     ]
    }
   ],
   "source": [
    "mj_wins_w_l = count_winning_pairs(mj_w_l, kobe_w_l)\n",
    "kobe_wins_w_l = count_winning_pairs(kobe_w_l, mj_w_l)\n",
    "print(\"Number of MJ Wins: {}\".format(mj_wins_w_l))\n",
    "print(\"Number of Kobe Wins: {}\".format(kobe_wins_w_l))"
   ]
  },
  {
   "cell_type": "markdown",
   "metadata": {},
   "source": [
    "# Steals"
   ]
  },
  {
   "cell_type": "code",
   "execution_count": null,
   "metadata": {},
   "outputs": [],
   "source": []
  },
  {
   "cell_type": "code",
   "execution_count": 52,
   "metadata": {},
   "outputs": [],
   "source": [
    "mj_stl = mj_over_20min['STL'].dropna()\n",
    "kobe_stl = kobe_over_20min['STL'].dropna()"
   ]
  },
  {
   "cell_type": "code",
   "execution_count": 53,
   "metadata": {},
   "outputs": [
    {
     "data": {
      "text/plain": [
       "Ttest_indResult(statistic=14.252221251995884, pvalue=1.6934740027655064e-44)"
      ]
     },
     "execution_count": 53,
     "metadata": {},
     "output_type": "execute_result"
    }
   ],
   "source": [
    "s = stats.ttest_ind(mj_stl,kobe_stl)\n",
    "s"
   ]
  },
  {
   "cell_type": "code",
   "execution_count": 54,
   "metadata": {},
   "outputs": [
    {
     "name": "stdout",
     "output_type": "stream",
     "text": [
      "MannwhitneyuResult(statistic=1178309.5, pvalue=5.7116491805132094e-42)\n",
      "p-value for MJ < Kobe: 0.000\n"
     ]
    }
   ],
   "source": [
    "res6 = stats.mannwhitneyu(mj_stl, kobe_stl, alternative=\"greater\")\n",
    "print(res6)\n",
    "print(\"p-value for MJ < Kobe: {:2.3f}\".format(res6.pvalue))"
   ]
  },
  {
   "cell_type": "code",
   "execution_count": 55,
   "metadata": {},
   "outputs": [
    {
     "name": "stdout",
     "output_type": "stream",
     "text": [
      "Number of MJ Wins: 1178309.5\n",
      "Number of Kobe Wins: 642558.5\n"
     ]
    }
   ],
   "source": [
    "mj_wins_stl = count_winning_pairs(mj_stl, kobe_stl)\n",
    "kobe_wins_stl = count_winning_pairs(kobe_stl, mj_stl)\n",
    "print(\"Number of MJ Wins: {}\".format(mj_wins_stl))\n",
    "print(\"Number of Kobe Wins: {}\".format(kobe_wins_stl))"
   ]
  },
  {
   "cell_type": "markdown",
   "metadata": {},
   "source": [
    "# Blocks"
   ]
  },
  {
   "cell_type": "code",
   "execution_count": 56,
   "metadata": {},
   "outputs": [],
   "source": [
    "mj_blk = mj_over_20min['BLK'].dropna()\n",
    "kobe_blk = kobe_over_20min['BLK'].dropna()"
   ]
  },
  {
   "cell_type": "code",
   "execution_count": 57,
   "metadata": {},
   "outputs": [
    {
     "name": "stdout",
     "output_type": "stream",
     "text": [
      "MannwhitneyuResult(statistic=1178309.5, pvalue=5.7116491805132094e-42)\n",
      "p-value for MJ < Kobe: 0.000\n"
     ]
    }
   ],
   "source": [
    "res7 = stats.mannwhitneyu(mj_blk, kobe_blk, alternative=\"greater\")\n",
    "print(res6)\n",
    "print(\"p-value for MJ < Kobe: {:2.3f}\".format(res7.pvalue))"
   ]
  },
  {
   "cell_type": "code",
   "execution_count": 58,
   "metadata": {},
   "outputs": [
    {
     "name": "stdout",
     "output_type": "stream",
     "text": [
      "Number of MJ Wins: 1086752.5\n",
      "Number of Kobe Wins: 748955.5\n"
     ]
    }
   ],
   "source": [
    "mj_wins_blk = count_winning_pairs(mj_blk, kobe_blk)\n",
    "kobe_wins_blk = count_winning_pairs(kobe_blk, mj_blk)\n",
    "print(\"Number of MJ Wins: {}\".format(mj_wins_blk))\n",
    "print(\"Number of Kobe Wins: {}\".format(kobe_wins_blk))"
   ]
  },
  {
   "cell_type": "code",
   "execution_count": null,
   "metadata": {},
   "outputs": [],
   "source": []
  },
  {
   "cell_type": "code",
   "execution_count": 59,
   "metadata": {},
   "outputs": [
    {
     "data": {
      "image/png": "[encoded data removed]",
      "text/plain": [
       "<Figure size 1440x720 with 4 Axes>"
      ]
     },
     "metadata": {},
     "output_type": "display_data"
    }
   ],
   "source": [
    "m = mj_over_20min['PTS']\n",
    "k = kobe_over_20min['PTS']\n",
    "\n",
    "mr = mj_over_20min['TRB']\n",
    "kr = kobe_over_20min['TRB']\n",
    "\n",
    "ms = mj_over_20min['STL']\n",
    "ks = kobe_over_20min['STL']\n",
    "\n",
    "ma = mj_over_20min['AST']\n",
    "ka = kobe_over_20min['AST']\n",
    "\n",
    "plt.style.use('seaborn-muted')\n",
    "\n",
    "# x = m\n",
    "# y = k\n",
    "bins = np.linspace(0, 85, 20) - 0.5\n",
    "bins2 = np.linspace(1,17,17) - 0.5\n",
    "bins3 = np.linspace(1,7,7) - 0.5\n",
    "bins4 = np.linspace(1,16,16) - 0.5\n",
    "# plt.hist([x, y], bins, label=['MJ', 'Kobe'])\n",
    "# plt.legend(loc='upper right')\n",
    "# plt.xlabel('Points in Game')\n",
    "# plt.title('Carear Games Over 20 minutes')\n",
    "# plt.show()\n",
    "\n",
    "\n",
    "fig, axs = plt.subplots(2, 2,figsize=(20,10))\n",
    "\n",
    "axs[0, 0].hist([m, k],bins,color=['tab:cyan','tab:pink'],edgecolor='black')\n",
    "axs[0, 0].set_title('Points',fontsize=20)\n",
    "axs[0,0].set_xticks(range(0,86,5))\n",
    "axs[0, 0].legend(['MJ','Kobe'])\n",
    "axs[0,0].grid('on')\n",
    "axs[0,0].set_ylabel('# of occurrences',fontsize=15)\n",
    "axs[0,0].set_xlim(xmin=0)\n",
    "\n",
    "\n",
    "axs[0, 1].hist([mr, kr],bins2,color=['tab:green','blue'],edgecolor='black')\n",
    "axs[0, 1].set_title('Rebounds',fontsize=20)\n",
    "#axs[0,1].set_facecolor('tab:grey')\n",
    "axs[0, 1].legend(['MJ','Kobe'])\n",
    "axs[0,1].grid('on')\n",
    "axs[0,1].set_xlim(xmin=0)\n",
    "\n",
    "axs[1, 0].hist([ms, ks], bins3,color=['tab:blue','tab:orange'],edgecolor='black')\n",
    "axs[1, 0].set_title('Steals',fontsize=20)\n",
    "#axs[1,0].set_facecolor('tab:grey')\n",
    "axs[1, 0].legend(['MJ','Kobe'])\n",
    "axs[1,0].grid('on')\n",
    "axs[1,0].set_ylabel('# of occurrences',fontsize=15)\n",
    "axs[1,0].set_xlim(xmin=0)\n",
    "\n",
    "\n",
    "axs[1, 1].hist([ma, ka],bins4,color=['tab:grey','tab:purple'],edgecolor='black')\n",
    "axs[1, 1].set_title('Assists',fontsize=20)\n",
    "# axs[1,1].set_facecolor('black')\n",
    "axs[1, 1].legend(['MJ','Kobe'])\n",
    "axs[1,1].grid('on')\n",
    "axs[1,1].set_xlim(xmin=0)\n",
    "\n",
    "plt.suptitle('Michael Jordan vs Kobe Bryant',fontsize=30)\n",
    "# for ax in axs.flat:\n",
    "#     ax.label_outer()\n",
    "# plt.tight_layout()\n",
    "plt.grid('on')\n",
    "#plt.savefig('Histograms comparing MJ and Kobe Stats')\n",
    "plt.show()"
   ]
  },
  {
   "cell_type": "code",
   "execution_count": null,
   "metadata": {},
   "outputs": [],
   "source": []
  },
  {
   "cell_type": "code",
   "execution_count": 60,
   "metadata": {},
   "outputs": [],
   "source": [
    "lebron = mj_lebron_kobe[mj_lebron_kobe['Player'] == 'Lebron James']"
   ]
  },
  {
   "cell_type": "code",
   "execution_count": 61,
   "metadata": {},
   "outputs": [],
   "source": [
    "\n",
    "\n",
    "leb_pts = lebron['PTS'].dropna()\n",
    "leb_ast = lebron['AST'].dropna()\n",
    "leb_reb = lebron['TRB'].dropna()\n",
    "leb_stl = lebron['STL'].dropna()\n",
    "leb_blk = lebron['BLK'].dropna()\n",
    "\n",
    "mj_blk = mj_full['BLK']\n",
    "mj_pt = mj_full['PTS']\n",
    "mj_as = mj_full['AST']\n",
    "mj_re = mj_full['TRB']"
   ]
  },
  {
   "cell_type": "code",
   "execution_count": 62,
   "metadata": {},
   "outputs": [
    {
     "name": "stdout",
     "output_type": "stream",
     "text": [
      "MannwhitneyuResult(statistic=655709.0, pvalue=1.0)\n",
      "p-value for MJ having less rebounds than Lebron: 1.000\n"
     ]
    }
   ],
   "source": [
    "res8 = stats.mannwhitneyu(mj_reb, leb_reb, alternative=\"greater\")\n",
    "print(res8)\n",
    "print(\"p-value for MJ having less rebounds than Lebron: {:2.3f}\".format(res8.pvalue))"
   ]
  },
  {
   "cell_type": "code",
   "execution_count": 63,
   "metadata": {},
   "outputs": [
    {
     "data": {
      "text/plain": [
       "11002"
      ]
     },
     "execution_count": 63,
     "metadata": {},
     "output_type": "execute_result"
    }
   ],
   "source": [
    "leb_reb.sum()"
   ]
  },
  {
   "cell_type": "code",
   "execution_count": 64,
   "metadata": {},
   "outputs": [
    {
     "data": {
      "text/plain": [
       "7790"
      ]
     },
     "execution_count": 64,
     "metadata": {},
     "output_type": "execute_result"
    }
   ],
   "source": [
    "mj_reb.sum()"
   ]
  },
  {
   "cell_type": "code",
   "execution_count": 65,
   "metadata": {},
   "outputs": [
    {
     "name": "stdout",
     "output_type": "stream",
     "text": [
      "MannwhitneyuResult(statistic=1080113.5, pvalue=4.141998780208815e-20)\n",
      "p-value for MJ scoring less than Lebron: 0.000\n",
      "MannwhitneyuResult(statistic=904453.0, pvalue=0.3815065662851238)\n",
      "p-value for MJ having less blocks than Lebron: 0.382\n"
     ]
    }
   ],
   "source": [
    "r1 = stats.mannwhitneyu(mj_pt, leb_pts, alternative=\"greater\")\n",
    "print(r1)\n",
    "print(\"p-value for MJ scoring less than Lebron: {:2.3f}\".format(r1.pvalue))\n",
    "# r2 = stats.mannwhitneyu(mj_ast, leb_ast, alternative=\"greater\")\n",
    "# print(r2)\n",
    "# print(\"p-value for MJ < lebron: {:2.3f}\".format(r2.pvalue))\n",
    "# r3 = stats.mannwhitneyu(mj_reb, leb_reb, alternative=\"greater\")\n",
    "# print(r3)\n",
    "# print(\"p-value for MJ < lebron: {:2.3f}\".format(r3.pvalue))\n",
    "# r4 = stats.mannwhitneyu(mj_stl, leb_stl, alternative=\"greater\")\n",
    "# print(r4)\n",
    "# print(\"p-value for MJ < lebron: {:2.3f}\".format(r4.pvalue))\n",
    "r5 = stats.mannwhitneyu(mj_blk, leb_blk, alternative=\"greater\")\n",
    "print(r5)\n",
    "print(\"p-value for MJ having less blocks than Lebron: {:2.3f}\".format(r5.pvalue))"
   ]
  },
  {
   "cell_type": "markdown",
   "metadata": {},
   "source": [
    "As of 2017 comparing total Blocks for Michael Jordan and LeBron James we fail to reject the null hypothesis that MJ will get less blocks than lebron."
   ]
  },
  {
   "cell_type": "code",
   "execution_count": 66,
   "metadata": {},
   "outputs": [],
   "source": [
    "lebron_mj_blocks = Season_stats[['Player','BLK']].groupby('Player').sum().sort_values(by='BLK',ascending=False).reset_index()"
   ]
  },
  {
   "cell_type": "code",
   "execution_count": 67,
   "metadata": {},
   "outputs": [],
   "source": [
    "lb = lebron_mj_blocks[lebron_mj_blocks['Player'] == 'LeBron James']"
   ]
  },
  {
   "cell_type": "code",
   "execution_count": 68,
   "metadata": {},
   "outputs": [
    {
     "data": {
      "text/html": [
       "<div>\n",
       "<style scoped>\n",
       "    .dataframe tbody tr th:only-of-type {\n",
       "        vertical-align: middle;\n",
       "    }\n",
       "\n",
       "    .dataframe tbody tr th {\n",
       "        vertical-align: top;\n",
       "    }\n",
       "\n",
       "    .dataframe thead th {\n",
       "        text-align: right;\n",
       "    }\n",
       "</style>\n",
       "<table border=\"1\" class=\"dataframe\">\n",
       "  <thead>\n",
       "    <tr style=\"text-align: right;\">\n",
       "      <th></th>\n",
       "      <th>Player</th>\n",
       "      <th>BLK</th>\n",
       "    </tr>\n",
       "  </thead>\n",
       "  <tbody>\n",
       "    <tr>\n",
       "      <th>127</th>\n",
       "      <td>LeBron James</td>\n",
       "      <td>817.0</td>\n",
       "    </tr>\n",
       "  </tbody>\n",
       "</table>\n",
       "</div>"
      ],
      "text/plain": [
       "           Player    BLK\n",
       "127  LeBron James  817.0"
      ]
     },
     "execution_count": 68,
     "metadata": {},
     "output_type": "execute_result"
    }
   ],
   "source": [
    "lb"
   ]
  },
  {
   "cell_type": "code",
   "execution_count": 69,
   "metadata": {},
   "outputs": [],
   "source": [
    "mb = lebron_mj_blocks[lebron_mj_blocks['Player'] == 'Michael Jordan*']"
   ]
  },
  {
   "cell_type": "code",
   "execution_count": 70,
   "metadata": {},
   "outputs": [
    {
     "data": {
      "text/html": [
       "<div>\n",
       "<style scoped>\n",
       "    .dataframe tbody tr th:only-of-type {\n",
       "        vertical-align: middle;\n",
       "    }\n",
       "\n",
       "    .dataframe tbody tr th {\n",
       "        vertical-align: top;\n",
       "    }\n",
       "\n",
       "    .dataframe thead th {\n",
       "        text-align: right;\n",
       "    }\n",
       "</style>\n",
       "<table border=\"1\" class=\"dataframe\">\n",
       "  <thead>\n",
       "    <tr style=\"text-align: right;\">\n",
       "      <th></th>\n",
       "      <th>Player</th>\n",
       "      <th>BLK</th>\n",
       "    </tr>\n",
       "  </thead>\n",
       "  <tbody>\n",
       "    <tr>\n",
       "      <th>107</th>\n",
       "      <td>Michael Jordan*</td>\n",
       "      <td>893.0</td>\n",
       "    </tr>\n",
       "  </tbody>\n",
       "</table>\n",
       "</div>"
      ],
      "text/plain": [
       "              Player    BLK\n",
       "107  Michael Jordan*  893.0"
      ]
     },
     "execution_count": 70,
     "metadata": {},
     "output_type": "execute_result"
    }
   ],
   "source": [
    "mb"
   ]
  },
  {
   "cell_type": "code",
   "execution_count": 230,
   "metadata": {},
   "outputs": [],
   "source": [
    "Stat = ['Points','Assists','Rebounds','Steals','Blocks','Wins/Losses','Game Score']\n",
    "end_df = pd.DataFrame({'MJ Wins': [mj_wins_pts,mj_wins_ast,mj_wins_reb,mj_wins_stl,mj_wins_blk,mj_wins_w_l,mj_wins_gmsc ],\n",
    "                      'Kobe Wins': [kobe_wins_pts,kobe_wins_ast,kobe_wins_reb,kobe_wins_stl,kobe_wins_blk,kobe_wins_w_l,kobe_wins_gmsc ]}\n",
    "                      , index=Stat)\n",
    "end_df['Total Comparisons'] = end_df['MJ Wins'] + end_df['Kobe Wins']\n",
    "end_df['P-Value'] = [\"{:2.3f}\".format(res.pvalue),\n",
    "                     \"{:2.3f}\".format(res3.pvalue),\n",
    "                     \"{:2.3f}\".format(res2.pvalue),\n",
    "                     \"{:2.3f}\".format(res6.pvalue),\n",
    "                     \"{:2.3f}\".format(res7.pvalue),\n",
    "                     \"{:2.3f}\".format(res5.pvalue),\n",
    "                     \"{:2.3f}\".format(res4.pvalue)]"
   ]
  },
  {
   "cell_type": "code",
   "execution_count": 231,
   "metadata": {},
   "outputs": [
    {
     "data": {
      "text/html": [
       "<div>\n",
       "<style scoped>\n",
       "    .dataframe tbody tr th:only-of-type {\n",
       "        vertical-align: middle;\n",
       "    }\n",
       "\n",
       "    .dataframe tbody tr th {\n",
       "        vertical-align: top;\n",
       "    }\n",
       "\n",
       "    .dataframe thead th {\n",
       "        text-align: right;\n",
       "    }\n",
       "</style>\n",
       "<table border=\"1\" class=\"dataframe\">\n",
       "  <thead>\n",
       "    <tr style=\"text-align: right;\">\n",
       "      <th></th>\n",
       "      <th>MJ Wins</th>\n",
       "      <th>Kobe Wins</th>\n",
       "      <th>Total Comparisons</th>\n",
       "      <th>P-Value</th>\n",
       "    </tr>\n",
       "  </thead>\n",
       "  <tbody>\n",
       "    <tr>\n",
       "      <th>Points</th>\n",
       "      <td>1163381.5</td>\n",
       "      <td>663422.5</td>\n",
       "      <td>1826804.0</td>\n",
       "      <td>0.000</td>\n",
       "    </tr>\n",
       "    <tr>\n",
       "      <th>Assists</th>\n",
       "      <td>1006312.5</td>\n",
       "      <td>830879.5</td>\n",
       "      <td>1837192.0</td>\n",
       "      <td>0.000</td>\n",
       "    </tr>\n",
       "    <tr>\n",
       "      <th>Rebounds</th>\n",
       "      <td>1073599.0</td>\n",
       "      <td>763593.0</td>\n",
       "      <td>1837192.0</td>\n",
       "      <td>0.000</td>\n",
       "    </tr>\n",
       "    <tr>\n",
       "      <th>Steals</th>\n",
       "      <td>1178309.5</td>\n",
       "      <td>642558.5</td>\n",
       "      <td>1820868.0</td>\n",
       "      <td>0.000</td>\n",
       "    </tr>\n",
       "    <tr>\n",
       "      <th>Blocks</th>\n",
       "      <td>1086752.5</td>\n",
       "      <td>748955.5</td>\n",
       "      <td>1835708.0</td>\n",
       "      <td>0.000</td>\n",
       "    </tr>\n",
       "    <tr>\n",
       "      <th>Wins/Losses</th>\n",
       "      <td>958794.0</td>\n",
       "      <td>878398.0</td>\n",
       "      <td>1837192.0</td>\n",
       "      <td>0.009</td>\n",
       "    </tr>\n",
       "    <tr>\n",
       "      <th>Game Score</th>\n",
       "      <td>1023460.5</td>\n",
       "      <td>539191.5</td>\n",
       "      <td>1562652.0</td>\n",
       "      <td>0.000</td>\n",
       "    </tr>\n",
       "  </tbody>\n",
       "</table>\n",
       "</div>"
      ],
      "text/plain": [
       "               MJ Wins  Kobe Wins  Total Comparisons P-Value\n",
       "Points       1163381.5   663422.5          1826804.0   0.000\n",
       "Assists      1006312.5   830879.5          1837192.0   0.000\n",
       "Rebounds     1073599.0   763593.0          1837192.0   0.000\n",
       "Steals       1178309.5   642558.5          1820868.0   0.000\n",
       "Blocks       1086752.5   748955.5          1835708.0   0.000\n",
       "Wins/Losses   958794.0   878398.0          1837192.0   0.009\n",
       "Game Score   1023460.5   539191.5          1562652.0   0.000"
      ]
     },
     "execution_count": 231,
     "metadata": {},
     "output_type": "execute_result"
    }
   ],
   "source": [
    "end_df"
   ]
  },
  {
   "cell_type": "code",
   "execution_count": null,
   "metadata": {},
   "outputs": [],
   "source": []
  },
  {
   "cell_type": "code",
   "execution_count": 228,
   "metadata": {},
   "outputs": [
    {
     "data": {
      "image/png": "[encoded data removed]",
      "text/plain": [
       "<Figure size 1152x216 with 1 Axes>"
      ]
     },
     "metadata": {},
     "output_type": "display_data"
    }
   ],
   "source": [
    "fig, ax = plt.subplots(1, figsize=(16, 3))\n",
    "\n",
    "ax.scatter(mj_pt, np.repeat(0, len(mj_pt)) + np.random.normal(0, 0.1, len(mj_pt)), s=45)\n",
    "ax.scatter(leb_pts, np.repeat(1, len(leb_pts)) + np.random.normal(0, 0.1, len(leb_pts)), s=45)\n",
    "ax.set_yticks([0, 1])\n",
    "ax.set_yticklabels([\"MJ\", \"LeBron\"])\n",
    "ax.set_xlabel('Number of Points in a Game',fontsize=14)\n",
    "ax.set_title('Career Points ',fontsize=20)\n",
    "plt.savefig('Lebron MJ Total career points')"
   ]
  },
  {
   "cell_type": "code",
   "execution_count": 74,
   "metadata": {},
   "outputs": [
    {
     "name": "stdout",
     "output_type": "stream",
     "text": [
      "MannwhitneyuResult(statistic=1080113.5, pvalue=4.141998780208815e-20)\n",
      "p-value for MJ scoring less than Lebron: 0.000\n"
     ]
    }
   ],
   "source": [
    "r1 = stats.mannwhitneyu(mj_pt, leb_pts, alternative=\"greater\")\n",
    "print(r1)\n",
    "print(\"p-value for MJ scoring less than Lebron: {:2.3f}\".format(r1.pvalue))"
   ]
  },
  {
   "cell_type": "code",
   "execution_count": 227,
   "metadata": {},
   "outputs": [
    {
     "data": {
      "image/png": "[encoded data removed]",
      "text/plain": [
       "<Figure size 864x504 with 1 Axes>"
      ]
     },
     "metadata": {},
     "output_type": "display_data"
    }
   ],
   "source": [
    "green_diamond = dict(markerfacecolor='g', marker='D')\n",
    "fig, ax = plt.subplots(1, figsize=(12, 7))\n",
    "b1 = np.linspace(0,17,17)\n",
    "ax.boxplot([mj_full['AST'],leb_ast],notch=True,flierprops=green_diamond,vert=False,patch_artist=True)\n",
    "# ax.hist(leb_ast,alpha=0.5)\n",
    "# ax.set_xlim(xmin=0)\n",
    "ax.set_yticklabels(['MJ','Lebron James'],fontsize=15)\n",
    "# ax.bar(leb_blk,len(leb_blk),alpha=0.5)\n",
    "#ax.legend(['MJ','Lebron'])\n",
    "ax.set_title('MJ vs Lebron Assists Per Game',fontsize=20)\n",
    "ax.set_xlabel('Assists',fontsize=15)\n",
    "plt.savefig('MJ Lebron Assists Per game')"
   ]
  },
  {
   "cell_type": "code",
   "execution_count": 76,
   "metadata": {},
   "outputs": [
    {
     "name": "stdout",
     "output_type": "stream",
     "text": [
      "MannwhitneyuResult(statistic=904453.0, pvalue=0.3815065662851238)\n",
      "p-value for MJ having rebounds blocks than Lebron: 0.382\n"
     ]
    }
   ],
   "source": [
    "r5 = stats.mannwhitneyu(mj_blk, leb_blk, alternative=\"greater\")\n",
    "print(r5)\n",
    "print(\"p-value for MJ having rebounds blocks than Lebron: {:2.3f}\".format(r5.pvalue))"
   ]
  },
  {
   "cell_type": "code",
   "execution_count": 157,
   "metadata": {},
   "outputs": [
    {
     "name": "stdout",
     "output_type": "stream",
     "text": [
      "MannwhitneyuResult(statistic=563292.0, pvalue=1.0)\n",
      "p-value for MJ scoring less than Lebron: 1.000\n"
     ]
    }
   ],
   "source": [
    "r3 = stats.mannwhitneyu(mj_ast, leb_ast, alternative=\"greater\")\n",
    "print(r3)\n",
    "print(\"p-value for MJ scoring less than Lebron: {:2.3f}\".format(r3.pvalue))"
   ]
  },
  {
   "cell_type": "code",
   "execution_count": null,
   "metadata": {},
   "outputs": [],
   "source": []
  },
  {
   "cell_type": "code",
   "execution_count": null,
   "metadata": {},
   "outputs": [],
   "source": []
  }
 ],
 "metadata": {
  "kernelspec": {
   "display_name": "Python 3",
   "language": "python",
   "name": "python3"
  },
  "language_info": {
   "codemirror_mode": {
    "name": "ipython",
    "version": 3
   },
   "file_extension": ".py",
   "mimetype": "text/x-python",
   "name": "python",
   "nbconvert_exporter": "python",
   "pygments_lexer": "ipython3",
   "version": "3.7.7"
  }
 },
 "nbformat": 4,
 "nbformat_minor": 4
}
