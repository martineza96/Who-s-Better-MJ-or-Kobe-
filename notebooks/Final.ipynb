{
 "cells": [
  {
   "cell_type": "code",
   "execution_count": 1,
   "metadata": {},
   "outputs": [],
   "source": [
    "import pandas as pd\n",
    "import matplotlib.pyplot as plt\n",
    "import numpy as np\n",
    "import scipy.stats as stats\n",
    "import seaborn as sns"
   ]
  },
  {
   "cell_type": "markdown",
   "metadata": {},
   "source": [
    "Imported all players stats from 1950-2017"
   ]
  },
  {
   "cell_type": "code",
   "execution_count": 3,
   "metadata": {},
   "outputs": [
    {
     "data": {
      "text/plain": [
       "'/Users/AlexMartinez/Desktop/Who-s-Better-MJ-or-Kobe-/notebooks'"
      ]
     },
     "execution_count": 3,
     "metadata": {},
     "output_type": "execute_result"
    }
   ],
   "source": [
    "pwd"
   ]
  },
  {
   "cell_type": "code",
   "execution_count": 4,
   "metadata": {},
   "outputs": [],
   "source": [
    "Season_stats = pd.read_csv('../data/Seasons_Stats.csv')"
   ]
  },
  {
   "cell_type": "code",
   "execution_count": 5,
   "metadata": {},
   "outputs": [
    {
     "name": "stdout",
     "output_type": "stream",
     "text": [
      "(24691, 53)\n",
      "(22568, 53)\n"
     ]
    }
   ],
   "source": [
    "# Because of the combined totals for certain players their stats were fluffed .\n",
    "print(Season_stats.shape)\n",
    "# Removed where those rows were\n",
    "Season_stats.drop(Season_stats[Season_stats['Tm'] == 'TOT'].index, inplace = True) \n",
    "print(Season_stats.shape)\n"
   ]
  },
  {
   "cell_type": "code",
   "execution_count": 6,
   "metadata": {},
   "outputs": [],
   "source": [
    "best_scores = Season_stats[['Player','PTS', 'FG','FG%','USG%','PER','3P%','2P%','3PAr','TS%','MP','FT%','OWS']]"
   ]
  },
  {
   "cell_type": "markdown",
   "metadata": {},
   "source": [
    "The most poins and thier overall FG%"
   ]
  },
  {
   "cell_type": "code",
   "execution_count": 7,
   "metadata": {},
   "outputs": [],
   "source": [
    "fg_tot = pd.DataFrame(best_scores.groupby('Player')['FG%'].mean())\n",
    "score = pd.DataFrame(best_scores.groupby('Player')['PTS'].sum())\n",
    "score = score.merge(fg_tot,on='Player')\n",
    "score = score.sort_values(by='PTS',ascending=False).head(10)\n",
    "score\n",
    "# This table is innaccurate. There were 3 Eddie jhonsons who were comnbined into one player\n",
    "# Because none of them individually would make it to top 10. We  can drop them from the table\n",
    "\n",
    "score.drop('Eddie Johnson',inplace=True)\n",
    "score = score.reset_index()"
   ]
  },
  {
   "cell_type": "markdown",
   "metadata": {},
   "source": [
    "Created a function to strip the * character next to players name which indicated hall of fame status"
   ]
  },
  {
   "cell_type": "code",
   "execution_count": 8,
   "metadata": {},
   "outputs": [],
   "source": [
    "def remove_star(string):\n",
    "    if '*' in string:\n",
    "        string = string.replace('*','')\n",
    "    return string\n",
    "    "
   ]
  },
  {
   "cell_type": "code",
   "execution_count": 9,
   "metadata": {},
   "outputs": [
    {
     "data": {
      "text/html": [
       "<div>\n",
       "<style scoped>\n",
       "    .dataframe tbody tr th:only-of-type {\n",
       "        vertical-align: middle;\n",
       "    }\n",
       "\n",
       "    .dataframe tbody tr th {\n",
       "        vertical-align: top;\n",
       "    }\n",
       "\n",
       "    .dataframe thead th {\n",
       "        text-align: right;\n",
       "    }\n",
       "</style>\n",
       "<table border=\"1\" class=\"dataframe\">\n",
       "  <thead>\n",
       "    <tr style=\"text-align: right;\">\n",
       "      <th></th>\n",
       "      <th>Player</th>\n",
       "      <th>PTS</th>\n",
       "      <th>FG%</th>\n",
       "    </tr>\n",
       "  </thead>\n",
       "  <tbody>\n",
       "    <tr>\n",
       "      <th>0</th>\n",
       "      <td>Kareem Abdul-Jabbar</td>\n",
       "      <td>38387.0</td>\n",
       "      <td>0.558350</td>\n",
       "    </tr>\n",
       "    <tr>\n",
       "      <th>1</th>\n",
       "      <td>Karl Malone</td>\n",
       "      <td>36928.0</td>\n",
       "      <td>0.512895</td>\n",
       "    </tr>\n",
       "    <tr>\n",
       "      <th>2</th>\n",
       "      <td>Kobe Bryant</td>\n",
       "      <td>33643.0</td>\n",
       "      <td>0.441400</td>\n",
       "    </tr>\n",
       "    <tr>\n",
       "      <th>3</th>\n",
       "      <td>Michael Jordan</td>\n",
       "      <td>32292.0</td>\n",
       "      <td>0.488267</td>\n",
       "    </tr>\n",
       "    <tr>\n",
       "      <th>4</th>\n",
       "      <td>Wilt Chamberlain</td>\n",
       "      <td>31419.0</td>\n",
       "      <td>0.563000</td>\n",
       "    </tr>\n",
       "    <tr>\n",
       "      <th>5</th>\n",
       "      <td>Dirk Nowitzki</td>\n",
       "      <td>30260.0</td>\n",
       "      <td>0.468842</td>\n",
       "    </tr>\n",
       "    <tr>\n",
       "      <th>6</th>\n",
       "      <td>LeBron James</td>\n",
       "      <td>28787.0</td>\n",
       "      <td>0.503571</td>\n",
       "    </tr>\n",
       "    <tr>\n",
       "      <th>7</th>\n",
       "      <td>Shaquille O'Neal</td>\n",
       "      <td>28596.0</td>\n",
       "      <td>0.587150</td>\n",
       "    </tr>\n",
       "    <tr>\n",
       "      <th>8</th>\n",
       "      <td>Moses Malone</td>\n",
       "      <td>27409.0</td>\n",
       "      <td>0.470947</td>\n",
       "    </tr>\n",
       "  </tbody>\n",
       "</table>\n",
       "</div>"
      ],
      "text/plain": [
       "                Player      PTS       FG%\n",
       "0  Kareem Abdul-Jabbar  38387.0  0.558350\n",
       "1          Karl Malone  36928.0  0.512895\n",
       "2          Kobe Bryant  33643.0  0.441400\n",
       "3       Michael Jordan  32292.0  0.488267\n",
       "4     Wilt Chamberlain  31419.0  0.563000\n",
       "5        Dirk Nowitzki  30260.0  0.468842\n",
       "6         LeBron James  28787.0  0.503571\n",
       "7     Shaquille O'Neal  28596.0  0.587150\n",
       "8         Moses Malone  27409.0  0.470947"
      ]
     },
     "execution_count": 9,
     "metadata": {},
     "output_type": "execute_result"
    }
   ],
   "source": [
    "score.Player = score.Player.map(remove_star)\n",
    "score"
   ]
  },
  {
   "cell_type": "markdown",
   "metadata": {},
   "source": [
    "Simple Bar graph of players with the most points"
   ]
  },
  {
   "cell_type": "code",
   "execution_count": 10,
   "metadata": {},
   "outputs": [
    {
     "data": {
      "text/plain": [
       "Text(0, 0.5, 'Total Points')"
      ]
     },
     "execution_count": 10,
     "metadata": {},
     "output_type": "execute_result"
    },
    {
     "data": {
      "image/png": "[encoded data removed]",
      "text/plain": [
       "<Figure size 432x288 with 1 Axes>"
      ]
     },
     "metadata": {
      "needs_background": "light"
     },
     "output_type": "display_data"
    }
   ],
   "source": [
    "score['PTS'].plot.bar()\n",
    "plt.ylabel('Total Points')"
   ]
  },
  {
   "cell_type": "markdown",
   "metadata": {},
   "source": [
    "Points to FG%"
   ]
  },
  {
   "cell_type": "code",
   "execution_count": 14,
   "metadata": {},
   "outputs": [],
   "source": [
    "from matplotlib import cm\n",
    "from matplotlib import rc,rcParams\n",
    "color = cm.magma_r(np.linspace(0.2,0.6,30))"
   ]
  },
  {
   "cell_type": "code",
   "execution_count": 15,
   "metadata": {},
   "outputs": [],
   "source": [
    "color = cm.viridis_r(np.linspace(0.3,0.9,15))"
   ]
  },
  {
   "cell_type": "code",
   "execution_count": 16,
   "metadata": {},
   "outputs": [
    {
     "data": {
      "image/png": "[encoded data removed]",
      "text/plain": [
       "<Figure size 864x432 with 1 Axes>"
      ]
     },
     "metadata": {
      "needs_background": "light"
     },
     "output_type": "display_data"
    }
   ],
   "source": [
    "fig, ax = plt.subplots(figsize=(12,6))\n",
    "y_pos = np.arange(len(score['Player']))\n",
    "ax.barh(score['Player'],score['PTS'],color=color,ec='black',capstyle='projecting')\n",
    "ax.set_yticks(y_pos)\n",
    "ax.set_xlabel('# of Points')\n",
    "ax.invert_yaxis()\n",
    "plt.tight_layout()\n",
    "plt.title('Most Points in NBA history',fontsize=20)\n",
    "plt.show()"
   ]
  },
  {
   "cell_type": "markdown",
   "metadata": {},
   "source": [
    "Kareem Abdul-Jabbar is the NBA all time leader in points. With this stat alone you may think that he is the greatest because of it. However when played, between 1970 and 1989 , the leage average height started at 197 inches to 200 inches by the time he retired. Kareem stood 218 inches tall which was significatly taller thanmost of the League in his time. "
   ]
  },
  {
   "cell_type": "code",
   "execution_count": 21,
   "metadata": {},
   "outputs": [],
   "source": [
    "player_info_df = pd.read_csv('../data/Players.csv')"
   ]
  },
  {
   "cell_type": "code",
   "execution_count": 22,
   "metadata": {},
   "outputs": [],
   "source": [
    "season_and_player_df = player_info_df.merge(Season_stats,on='Player')"
   ]
  },
  {
   "cell_type": "code",
   "execution_count": 23,
   "metadata": {},
   "outputs": [],
   "source": [
    "def change_to_inches(num):\n",
    "    num = round((num / 100000) * 39370 , 0)\n",
    "    return num\n",
    "    "
   ]
  },
  {
   "cell_type": "code",
   "execution_count": 24,
   "metadata": {},
   "outputs": [
    {
     "data": {
      "text/html": [
       "<div>\n",
       "<style scoped>\n",
       "    .dataframe tbody tr th:only-of-type {\n",
       "        vertical-align: middle;\n",
       "    }\n",
       "\n",
       "    .dataframe tbody tr th {\n",
       "        vertical-align: top;\n",
       "    }\n",
       "\n",
       "    .dataframe thead th {\n",
       "        text-align: right;\n",
       "    }\n",
       "</style>\n",
       "<table border=\"1\" class=\"dataframe\">\n",
       "  <thead>\n",
       "    <tr style=\"text-align: right;\">\n",
       "      <th></th>\n",
       "      <th>Unnamed: 0_x</th>\n",
       "      <th>Player</th>\n",
       "      <th>height</th>\n",
       "      <th>weight</th>\n",
       "      <th>collage</th>\n",
       "      <th>born</th>\n",
       "      <th>birth_city</th>\n",
       "      <th>birth_state</th>\n",
       "      <th>Unnamed: 0_y</th>\n",
       "      <th>Year</th>\n",
       "      <th>...</th>\n",
       "      <th>FT%</th>\n",
       "      <th>ORB</th>\n",
       "      <th>DRB</th>\n",
       "      <th>TRB</th>\n",
       "      <th>AST</th>\n",
       "      <th>STL</th>\n",
       "      <th>BLK</th>\n",
       "      <th>TOV</th>\n",
       "      <th>PF</th>\n",
       "      <th>PTS</th>\n",
       "    </tr>\n",
       "  </thead>\n",
       "  <tbody>\n",
       "    <tr>\n",
       "      <th>0</th>\n",
       "      <td>0</td>\n",
       "      <td>Curly Armstrong</td>\n",
       "      <td>180.0</td>\n",
       "      <td>77.0</td>\n",
       "      <td>Indiana University</td>\n",
       "      <td>1918.0</td>\n",
       "      <td>NaN</td>\n",
       "      <td>NaN</td>\n",
       "      <td>0</td>\n",
       "      <td>1950.0</td>\n",
       "      <td>...</td>\n",
       "      <td>0.705</td>\n",
       "      <td>NaN</td>\n",
       "      <td>NaN</td>\n",
       "      <td>NaN</td>\n",
       "      <td>176.0</td>\n",
       "      <td>NaN</td>\n",
       "      <td>NaN</td>\n",
       "      <td>NaN</td>\n",
       "      <td>217.0</td>\n",
       "      <td>458.0</td>\n",
       "    </tr>\n",
       "    <tr>\n",
       "      <th>1</th>\n",
       "      <td>0</td>\n",
       "      <td>Curly Armstrong</td>\n",
       "      <td>180.0</td>\n",
       "      <td>77.0</td>\n",
       "      <td>Indiana University</td>\n",
       "      <td>1918.0</td>\n",
       "      <td>NaN</td>\n",
       "      <td>NaN</td>\n",
       "      <td>314</td>\n",
       "      <td>1951.0</td>\n",
       "      <td>...</td>\n",
       "      <td>0.644</td>\n",
       "      <td>NaN</td>\n",
       "      <td>NaN</td>\n",
       "      <td>89.0</td>\n",
       "      <td>77.0</td>\n",
       "      <td>NaN</td>\n",
       "      <td>NaN</td>\n",
       "      <td>NaN</td>\n",
       "      <td>97.0</td>\n",
       "      <td>202.0</td>\n",
       "    </tr>\n",
       "    <tr>\n",
       "      <th>2</th>\n",
       "      <td>1</td>\n",
       "      <td>Cliff Barker</td>\n",
       "      <td>188.0</td>\n",
       "      <td>83.0</td>\n",
       "      <td>University of Kentucky</td>\n",
       "      <td>1921.0</td>\n",
       "      <td>Yorktown</td>\n",
       "      <td>Indiana</td>\n",
       "      <td>1</td>\n",
       "      <td>1950.0</td>\n",
       "      <td>...</td>\n",
       "      <td>0.708</td>\n",
       "      <td>NaN</td>\n",
       "      <td>NaN</td>\n",
       "      <td>NaN</td>\n",
       "      <td>109.0</td>\n",
       "      <td>NaN</td>\n",
       "      <td>NaN</td>\n",
       "      <td>NaN</td>\n",
       "      <td>99.0</td>\n",
       "      <td>279.0</td>\n",
       "    </tr>\n",
       "    <tr>\n",
       "      <th>3</th>\n",
       "      <td>1</td>\n",
       "      <td>Cliff Barker</td>\n",
       "      <td>188.0</td>\n",
       "      <td>83.0</td>\n",
       "      <td>University of Kentucky</td>\n",
       "      <td>1921.0</td>\n",
       "      <td>Yorktown</td>\n",
       "      <td>Indiana</td>\n",
       "      <td>315</td>\n",
       "      <td>1951.0</td>\n",
       "      <td>...</td>\n",
       "      <td>0.649</td>\n",
       "      <td>NaN</td>\n",
       "      <td>NaN</td>\n",
       "      <td>100.0</td>\n",
       "      <td>115.0</td>\n",
       "      <td>NaN</td>\n",
       "      <td>NaN</td>\n",
       "      <td>NaN</td>\n",
       "      <td>98.0</td>\n",
       "      <td>152.0</td>\n",
       "    </tr>\n",
       "    <tr>\n",
       "      <th>4</th>\n",
       "      <td>1</td>\n",
       "      <td>Cliff Barker</td>\n",
       "      <td>188.0</td>\n",
       "      <td>83.0</td>\n",
       "      <td>University of Kentucky</td>\n",
       "      <td>1921.0</td>\n",
       "      <td>Yorktown</td>\n",
       "      <td>Indiana</td>\n",
       "      <td>489</td>\n",
       "      <td>1952.0</td>\n",
       "      <td>...</td>\n",
       "      <td>0.588</td>\n",
       "      <td>NaN</td>\n",
       "      <td>NaN</td>\n",
       "      <td>81.0</td>\n",
       "      <td>70.0</td>\n",
       "      <td>NaN</td>\n",
       "      <td>NaN</td>\n",
       "      <td>NaN</td>\n",
       "      <td>56.0</td>\n",
       "      <td>126.0</td>\n",
       "    </tr>\n",
       "    <tr>\n",
       "      <th>...</th>\n",
       "      <td>...</td>\n",
       "      <td>...</td>\n",
       "      <td>...</td>\n",
       "      <td>...</td>\n",
       "      <td>...</td>\n",
       "      <td>...</td>\n",
       "      <td>...</td>\n",
       "      <td>...</td>\n",
       "      <td>...</td>\n",
       "      <td>...</td>\n",
       "      <td>...</td>\n",
       "      <td>...</td>\n",
       "      <td>...</td>\n",
       "      <td>...</td>\n",
       "      <td>...</td>\n",
       "      <td>...</td>\n",
       "      <td>...</td>\n",
       "      <td>...</td>\n",
       "      <td>...</td>\n",
       "      <td>...</td>\n",
       "      <td>...</td>\n",
       "    </tr>\n",
       "    <tr>\n",
       "      <th>22563</th>\n",
       "      <td>3917</td>\n",
       "      <td>Troy Williams</td>\n",
       "      <td>198.0</td>\n",
       "      <td>97.0</td>\n",
       "      <td>South Carolina State University</td>\n",
       "      <td>1969.0</td>\n",
       "      <td>Columbia</td>\n",
       "      <td>South Carolina</td>\n",
       "      <td>24674</td>\n",
       "      <td>2017.0</td>\n",
       "      <td>...</td>\n",
       "      <td>0.857</td>\n",
       "      <td>9.0</td>\n",
       "      <td>15.0</td>\n",
       "      <td>24.0</td>\n",
       "      <td>6.0</td>\n",
       "      <td>3.0</td>\n",
       "      <td>1.0</td>\n",
       "      <td>6.0</td>\n",
       "      <td>18.0</td>\n",
       "      <td>58.0</td>\n",
       "    </tr>\n",
       "    <tr>\n",
       "      <th>22564</th>\n",
       "      <td>3918</td>\n",
       "      <td>Kyle Wiltjer</td>\n",
       "      <td>208.0</td>\n",
       "      <td>108.0</td>\n",
       "      <td>Gonzaga University</td>\n",
       "      <td>1992.0</td>\n",
       "      <td>Portland</td>\n",
       "      <td>Oregon</td>\n",
       "      <td>24675</td>\n",
       "      <td>2017.0</td>\n",
       "      <td>...</td>\n",
       "      <td>0.500</td>\n",
       "      <td>4.0</td>\n",
       "      <td>6.0</td>\n",
       "      <td>10.0</td>\n",
       "      <td>2.0</td>\n",
       "      <td>3.0</td>\n",
       "      <td>1.0</td>\n",
       "      <td>5.0</td>\n",
       "      <td>4.0</td>\n",
       "      <td>13.0</td>\n",
       "    </tr>\n",
       "    <tr>\n",
       "      <th>22565</th>\n",
       "      <td>3919</td>\n",
       "      <td>Stephen Zimmerman</td>\n",
       "      <td>213.0</td>\n",
       "      <td>108.0</td>\n",
       "      <td>University of Nevada, Las Vegas</td>\n",
       "      <td>1996.0</td>\n",
       "      <td>Hendersonville</td>\n",
       "      <td>Tennessee</td>\n",
       "      <td>24688</td>\n",
       "      <td>2017.0</td>\n",
       "      <td>...</td>\n",
       "      <td>0.600</td>\n",
       "      <td>11.0</td>\n",
       "      <td>24.0</td>\n",
       "      <td>35.0</td>\n",
       "      <td>4.0</td>\n",
       "      <td>2.0</td>\n",
       "      <td>5.0</td>\n",
       "      <td>3.0</td>\n",
       "      <td>17.0</td>\n",
       "      <td>23.0</td>\n",
       "    </tr>\n",
       "    <tr>\n",
       "      <th>22566</th>\n",
       "      <td>3920</td>\n",
       "      <td>Paul Zipser</td>\n",
       "      <td>203.0</td>\n",
       "      <td>97.0</td>\n",
       "      <td>NaN</td>\n",
       "      <td>1994.0</td>\n",
       "      <td>Heidelberg</td>\n",
       "      <td>Germany</td>\n",
       "      <td>24689</td>\n",
       "      <td>2017.0</td>\n",
       "      <td>...</td>\n",
       "      <td>0.775</td>\n",
       "      <td>15.0</td>\n",
       "      <td>110.0</td>\n",
       "      <td>125.0</td>\n",
       "      <td>36.0</td>\n",
       "      <td>15.0</td>\n",
       "      <td>16.0</td>\n",
       "      <td>40.0</td>\n",
       "      <td>78.0</td>\n",
       "      <td>240.0</td>\n",
       "    </tr>\n",
       "    <tr>\n",
       "      <th>22567</th>\n",
       "      <td>3921</td>\n",
       "      <td>Ivica Zubac</td>\n",
       "      <td>216.0</td>\n",
       "      <td>120.0</td>\n",
       "      <td>NaN</td>\n",
       "      <td>1997.0</td>\n",
       "      <td>Mostar</td>\n",
       "      <td>Bosnia and Herzegovina</td>\n",
       "      <td>24690</td>\n",
       "      <td>2017.0</td>\n",
       "      <td>...</td>\n",
       "      <td>0.653</td>\n",
       "      <td>41.0</td>\n",
       "      <td>118.0</td>\n",
       "      <td>159.0</td>\n",
       "      <td>30.0</td>\n",
       "      <td>14.0</td>\n",
       "      <td>33.0</td>\n",
       "      <td>30.0</td>\n",
       "      <td>66.0</td>\n",
       "      <td>284.0</td>\n",
       "    </tr>\n",
       "  </tbody>\n",
       "</table>\n",
       "<p>22568 rows × 60 columns</p>\n",
       "</div>"
      ],
      "text/plain": [
       "       Unnamed: 0_x             Player  height  weight  \\\n",
       "0                 0    Curly Armstrong   180.0    77.0   \n",
       "1                 0    Curly Armstrong   180.0    77.0   \n",
       "2                 1       Cliff Barker   188.0    83.0   \n",
       "3                 1       Cliff Barker   188.0    83.0   \n",
       "4                 1       Cliff Barker   188.0    83.0   \n",
       "...             ...                ...     ...     ...   \n",
       "22563          3917      Troy Williams   198.0    97.0   \n",
       "22564          3918       Kyle Wiltjer   208.0   108.0   \n",
       "22565          3919  Stephen Zimmerman   213.0   108.0   \n",
       "22566          3920        Paul Zipser   203.0    97.0   \n",
       "22567          3921        Ivica Zubac   216.0   120.0   \n",
       "\n",
       "                               collage    born      birth_city  \\\n",
       "0                   Indiana University  1918.0             NaN   \n",
       "1                   Indiana University  1918.0             NaN   \n",
       "2               University of Kentucky  1921.0        Yorktown   \n",
       "3               University of Kentucky  1921.0        Yorktown   \n",
       "4               University of Kentucky  1921.0        Yorktown   \n",
       "...                                ...     ...             ...   \n",
       "22563  South Carolina State University  1969.0        Columbia   \n",
       "22564               Gonzaga University  1992.0        Portland   \n",
       "22565  University of Nevada, Las Vegas  1996.0  Hendersonville   \n",
       "22566                              NaN  1994.0      Heidelberg   \n",
       "22567                              NaN  1997.0          Mostar   \n",
       "\n",
       "                  birth_state  Unnamed: 0_y    Year  ...    FT%   ORB    DRB  \\\n",
       "0                         NaN             0  1950.0  ...  0.705   NaN    NaN   \n",
       "1                         NaN           314  1951.0  ...  0.644   NaN    NaN   \n",
       "2                     Indiana             1  1950.0  ...  0.708   NaN    NaN   \n",
       "3                     Indiana           315  1951.0  ...  0.649   NaN    NaN   \n",
       "4                     Indiana           489  1952.0  ...  0.588   NaN    NaN   \n",
       "...                       ...           ...     ...  ...    ...   ...    ...   \n",
       "22563          South Carolina         24674  2017.0  ...  0.857   9.0   15.0   \n",
       "22564                  Oregon         24675  2017.0  ...  0.500   4.0    6.0   \n",
       "22565               Tennessee         24688  2017.0  ...  0.600  11.0   24.0   \n",
       "22566                 Germany         24689  2017.0  ...  0.775  15.0  110.0   \n",
       "22567  Bosnia and Herzegovina         24690  2017.0  ...  0.653  41.0  118.0   \n",
       "\n",
       "         TRB    AST   STL   BLK   TOV     PF    PTS  \n",
       "0        NaN  176.0   NaN   NaN   NaN  217.0  458.0  \n",
       "1       89.0   77.0   NaN   NaN   NaN   97.0  202.0  \n",
       "2        NaN  109.0   NaN   NaN   NaN   99.0  279.0  \n",
       "3      100.0  115.0   NaN   NaN   NaN   98.0  152.0  \n",
       "4       81.0   70.0   NaN   NaN   NaN   56.0  126.0  \n",
       "...      ...    ...   ...   ...   ...    ...    ...  \n",
       "22563   24.0    6.0   3.0   1.0   6.0   18.0   58.0  \n",
       "22564   10.0    2.0   3.0   1.0   5.0    4.0   13.0  \n",
       "22565   35.0    4.0   2.0   5.0   3.0   17.0   23.0  \n",
       "22566  125.0   36.0  15.0  16.0  40.0   78.0  240.0  \n",
       "22567  159.0   30.0  14.0  33.0  30.0   66.0  284.0  \n",
       "\n",
       "[22568 rows x 60 columns]"
      ]
     },
     "execution_count": 24,
     "metadata": {},
     "output_type": "execute_result"
    }
   ],
   "source": [
    "season_and_player_df"
   ]
  },
  {
   "cell_type": "code",
   "execution_count": 35,
   "metadata": {},
   "outputs": [],
   "source": [
    "year_and_height_df = season_and_player_df[['Year','height']].groupby((df3.Year//2)*10).mean().astype(int)\n",
    "year_and_height_df.height = year_and_height_df.height.map(change_to_inches)\n",
    "year_and_height_df.reset_index(drop=True,inplace=True)"
   ]
  },
  {
   "cell_type": "code",
   "execution_count": 36,
   "metadata": {},
   "outputs": [
    {
     "data": {
      "text/html": [
       "<div>\n",
       "<style scoped>\n",
       "    .dataframe tbody tr th:only-of-type {\n",
       "        vertical-align: middle;\n",
       "    }\n",
       "\n",
       "    .dataframe tbody tr th {\n",
       "        vertical-align: top;\n",
       "    }\n",
       "\n",
       "    .dataframe thead th {\n",
       "        text-align: right;\n",
       "    }\n",
       "</style>\n",
       "<table border=\"1\" class=\"dataframe\">\n",
       "  <thead>\n",
       "    <tr style=\"text-align: right;\">\n",
       "      <th></th>\n",
       "      <th>Year</th>\n",
       "      <th>height</th>\n",
       "    </tr>\n",
       "  </thead>\n",
       "  <tbody>\n",
       "    <tr>\n",
       "      <th>0</th>\n",
       "      <td>1950</td>\n",
       "      <td>76.0</td>\n",
       "    </tr>\n",
       "    <tr>\n",
       "      <th>1</th>\n",
       "      <td>1952</td>\n",
       "      <td>76.0</td>\n",
       "    </tr>\n",
       "    <tr>\n",
       "      <th>2</th>\n",
       "      <td>1954</td>\n",
       "      <td>76.0</td>\n",
       "    </tr>\n",
       "    <tr>\n",
       "      <th>3</th>\n",
       "      <td>1956</td>\n",
       "      <td>77.0</td>\n",
       "    </tr>\n",
       "    <tr>\n",
       "      <th>4</th>\n",
       "      <td>1958</td>\n",
       "      <td>77.0</td>\n",
       "    </tr>\n",
       "    <tr>\n",
       "      <th>5</th>\n",
       "      <td>1960</td>\n",
       "      <td>77.0</td>\n",
       "    </tr>\n",
       "    <tr>\n",
       "      <th>6</th>\n",
       "      <td>1962</td>\n",
       "      <td>77.0</td>\n",
       "    </tr>\n",
       "    <tr>\n",
       "      <th>7</th>\n",
       "      <td>1964</td>\n",
       "      <td>78.0</td>\n",
       "    </tr>\n",
       "    <tr>\n",
       "      <th>8</th>\n",
       "      <td>1966</td>\n",
       "      <td>78.0</td>\n",
       "    </tr>\n",
       "    <tr>\n",
       "      <th>9</th>\n",
       "      <td>1968</td>\n",
       "      <td>78.0</td>\n",
       "    </tr>\n",
       "    <tr>\n",
       "      <th>10</th>\n",
       "      <td>1970</td>\n",
       "      <td>78.0</td>\n",
       "    </tr>\n",
       "    <tr>\n",
       "      <th>11</th>\n",
       "      <td>1972</td>\n",
       "      <td>78.0</td>\n",
       "    </tr>\n",
       "    <tr>\n",
       "      <th>12</th>\n",
       "      <td>1974</td>\n",
       "      <td>78.0</td>\n",
       "    </tr>\n",
       "    <tr>\n",
       "      <th>13</th>\n",
       "      <td>1976</td>\n",
       "      <td>78.0</td>\n",
       "    </tr>\n",
       "    <tr>\n",
       "      <th>14</th>\n",
       "      <td>1978</td>\n",
       "      <td>78.0</td>\n",
       "    </tr>\n",
       "    <tr>\n",
       "      <th>15</th>\n",
       "      <td>1980</td>\n",
       "      <td>78.0</td>\n",
       "    </tr>\n",
       "    <tr>\n",
       "      <th>16</th>\n",
       "      <td>1982</td>\n",
       "      <td>78.0</td>\n",
       "    </tr>\n",
       "    <tr>\n",
       "      <th>17</th>\n",
       "      <td>1984</td>\n",
       "      <td>78.0</td>\n",
       "    </tr>\n",
       "    <tr>\n",
       "      <th>18</th>\n",
       "      <td>1986</td>\n",
       "      <td>79.0</td>\n",
       "    </tr>\n",
       "    <tr>\n",
       "      <th>19</th>\n",
       "      <td>1988</td>\n",
       "      <td>79.0</td>\n",
       "    </tr>\n",
       "    <tr>\n",
       "      <th>20</th>\n",
       "      <td>1990</td>\n",
       "      <td>78.0</td>\n",
       "    </tr>\n",
       "    <tr>\n",
       "      <th>21</th>\n",
       "      <td>1992</td>\n",
       "      <td>78.0</td>\n",
       "    </tr>\n",
       "    <tr>\n",
       "      <th>22</th>\n",
       "      <td>1994</td>\n",
       "      <td>79.0</td>\n",
       "    </tr>\n",
       "    <tr>\n",
       "      <th>23</th>\n",
       "      <td>1996</td>\n",
       "      <td>79.0</td>\n",
       "    </tr>\n",
       "    <tr>\n",
       "      <th>24</th>\n",
       "      <td>1998</td>\n",
       "      <td>79.0</td>\n",
       "    </tr>\n",
       "    <tr>\n",
       "      <th>25</th>\n",
       "      <td>2000</td>\n",
       "      <td>79.0</td>\n",
       "    </tr>\n",
       "    <tr>\n",
       "      <th>26</th>\n",
       "      <td>2002</td>\n",
       "      <td>79.0</td>\n",
       "    </tr>\n",
       "    <tr>\n",
       "      <th>27</th>\n",
       "      <td>2004</td>\n",
       "      <td>79.0</td>\n",
       "    </tr>\n",
       "    <tr>\n",
       "      <th>28</th>\n",
       "      <td>2006</td>\n",
       "      <td>79.0</td>\n",
       "    </tr>\n",
       "    <tr>\n",
       "      <th>29</th>\n",
       "      <td>2008</td>\n",
       "      <td>79.0</td>\n",
       "    </tr>\n",
       "    <tr>\n",
       "      <th>30</th>\n",
       "      <td>2010</td>\n",
       "      <td>79.0</td>\n",
       "    </tr>\n",
       "    <tr>\n",
       "      <th>31</th>\n",
       "      <td>2012</td>\n",
       "      <td>79.0</td>\n",
       "    </tr>\n",
       "    <tr>\n",
       "      <th>32</th>\n",
       "      <td>2014</td>\n",
       "      <td>79.0</td>\n",
       "    </tr>\n",
       "    <tr>\n",
       "      <th>33</th>\n",
       "      <td>2016</td>\n",
       "      <td>79.0</td>\n",
       "    </tr>\n",
       "  </tbody>\n",
       "</table>\n",
       "</div>"
      ],
      "text/plain": [
       "    Year  height\n",
       "0   1950    76.0\n",
       "1   1952    76.0\n",
       "2   1954    76.0\n",
       "3   1956    77.0\n",
       "4   1958    77.0\n",
       "5   1960    77.0\n",
       "6   1962    77.0\n",
       "7   1964    78.0\n",
       "8   1966    78.0\n",
       "9   1968    78.0\n",
       "10  1970    78.0\n",
       "11  1972    78.0\n",
       "12  1974    78.0\n",
       "13  1976    78.0\n",
       "14  1978    78.0\n",
       "15  1980    78.0\n",
       "16  1982    78.0\n",
       "17  1984    78.0\n",
       "18  1986    79.0\n",
       "19  1988    79.0\n",
       "20  1990    78.0\n",
       "21  1992    78.0\n",
       "22  1994    79.0\n",
       "23  1996    79.0\n",
       "24  1998    79.0\n",
       "25  2000    79.0\n",
       "26  2002    79.0\n",
       "27  2004    79.0\n",
       "28  2006    79.0\n",
       "29  2008    79.0\n",
       "30  2010    79.0\n",
       "31  2012    79.0\n",
       "32  2014    79.0\n",
       "33  2016    79.0"
      ]
     },
     "execution_count": 36,
     "metadata": {},
     "output_type": "execute_result"
    }
   ],
   "source": [
    "year_and_height_df"
   ]
  },
  {
   "cell_type": "code",
   "execution_count": 37,
   "metadata": {},
   "outputs": [
    {
     "data": {
      "image/png": "[encoded data removed]",
      "text/plain": [
       "<Figure size 504x432 with 1 Axes>"
      ]
     },
     "metadata": {
      "needs_background": "light"
     },
     "output_type": "display_data"
    }
   ],
   "source": [
    "\n",
    "x = year_and_height_df['Year']\n",
    "y = year_and_height_df['height']\n",
    "a = np.array(x)\n",
    "ab = np.where(np.logical_and(a>=1970,a<=1989))\n",
    "a[ab]\n",
    "b = np.array(y)\n",
    "b[ab]\n",
    "fig, ax = plt.subplots(figsize=(7,6))\n",
    "\n",
    "ax.plot(x, y, color='black')\n",
    "ax.fill_between(a[ab],b[ab],\n",
    "                  facecolor='red', alpha=0.5)\n",
    "ax.set_ylim(74,80)\n",
    "ax.set_xlim(1952,2000)\n",
    "# # plt.show()\n",
    "# # Copy to clipboard\n",
    "ax.set_ylabel(\"Average League Height\",fontsize=13)\n",
    "ax.set_xlabel('NBA Season',fontsize=12)\n",
    "ax.legend(['League Average (Mean)','Kareem Abdul Jabar seasons'])\n",
    "ax.set_title(\"Kareem Abdul Jabar's 86\\\" Advantage\",fontsize=20)\n",
    "ax.grid('on')\n",
    "plt.tight_layout()\n",
    "#plt.savefig('Kareem Abdul Advantage')\n",
    "# add mean to league average"
   ]
  },
  {
   "cell_type": "markdown",
   "metadata": {},
   "source": [
    "Karal Malone is holds the Record for most points for a PF in NBA Histroy. He was one of the best players to ever play the PF(Power forward) position."
   ]
  },
  {
   "cell_type": "code",
   "execution_count": 42,
   "metadata": {},
   "outputs": [],
   "source": [
    "pf = Season_stats[['Player','Pos','PTS']]\n",
    "pf = pf[pf['Pos'] == 'PF']\n",
    "pf_top_3 = pf.groupby('Player').sum().sort_values(by='PTS',ascending=False).head(3)\n",
    "pf_top_3 = pf_top_3.reset_index()\n"
   ]
  },
  {
   "cell_type": "code",
   "execution_count": 43,
   "metadata": {},
   "outputs": [
    {
     "data": {
      "text/html": [
       "<div>\n",
       "<style scoped>\n",
       "    .dataframe tbody tr th:only-of-type {\n",
       "        vertical-align: middle;\n",
       "    }\n",
       "\n",
       "    .dataframe tbody tr th {\n",
       "        vertical-align: top;\n",
       "    }\n",
       "\n",
       "    .dataframe thead th {\n",
       "        text-align: right;\n",
       "    }\n",
       "</style>\n",
       "<table border=\"1\" class=\"dataframe\">\n",
       "  <thead>\n",
       "    <tr style=\"text-align: right;\">\n",
       "      <th></th>\n",
       "      <th>Player</th>\n",
       "      <th>Pos</th>\n",
       "      <th>PTS</th>\n",
       "    </tr>\n",
       "  </thead>\n",
       "  <tbody>\n",
       "    <tr>\n",
       "      <th>17</th>\n",
       "      <td>Bob Brannum</td>\n",
       "      <td>PF</td>\n",
       "      <td>713.0</td>\n",
       "    </tr>\n",
       "    <tr>\n",
       "      <th>23</th>\n",
       "      <td>Walt Budko</td>\n",
       "      <td>PF</td>\n",
       "      <td>595.0</td>\n",
       "    </tr>\n",
       "    <tr>\n",
       "      <th>41</th>\n",
       "      <td>Jack Coleman</td>\n",
       "      <td>PF</td>\n",
       "      <td>590.0</td>\n",
       "    </tr>\n",
       "    <tr>\n",
       "      <th>45</th>\n",
       "      <td>Dillard Crocker</td>\n",
       "      <td>PF</td>\n",
       "      <td>723.0</td>\n",
       "    </tr>\n",
       "    <tr>\n",
       "      <th>68</th>\n",
       "      <td>Joe Fulks*</td>\n",
       "      <td>PF</td>\n",
       "      <td>965.0</td>\n",
       "    </tr>\n",
       "    <tr>\n",
       "      <th>...</th>\n",
       "      <td>...</td>\n",
       "      <td>...</td>\n",
       "      <td>...</td>\n",
       "    </tr>\n",
       "    <tr>\n",
       "      <th>24675</th>\n",
       "      <td>Kyle Wiltjer</td>\n",
       "      <td>PF</td>\n",
       "      <td>13.0</td>\n",
       "    </tr>\n",
       "    <tr>\n",
       "      <th>24678</th>\n",
       "      <td>Christian Wood</td>\n",
       "      <td>PF</td>\n",
       "      <td>35.0</td>\n",
       "    </tr>\n",
       "    <tr>\n",
       "      <th>24680</th>\n",
       "      <td>Brandan Wright</td>\n",
       "      <td>PF</td>\n",
       "      <td>189.0</td>\n",
       "    </tr>\n",
       "    <tr>\n",
       "      <th>24685</th>\n",
       "      <td>Thaddeus Young</td>\n",
       "      <td>PF</td>\n",
       "      <td>814.0</td>\n",
       "    </tr>\n",
       "    <tr>\n",
       "      <th>24686</th>\n",
       "      <td>Cody Zeller</td>\n",
       "      <td>PF</td>\n",
       "      <td>639.0</td>\n",
       "    </tr>\n",
       "  </tbody>\n",
       "</table>\n",
       "<p>4576 rows × 3 columns</p>\n",
       "</div>"
      ],
      "text/plain": [
       "                Player Pos    PTS\n",
       "17         Bob Brannum  PF  713.0\n",
       "23          Walt Budko  PF  595.0\n",
       "41        Jack Coleman  PF  590.0\n",
       "45     Dillard Crocker  PF  723.0\n",
       "68          Joe Fulks*  PF  965.0\n",
       "...                ...  ..    ...\n",
       "24675     Kyle Wiltjer  PF   13.0\n",
       "24678   Christian Wood  PF   35.0\n",
       "24680   Brandan Wright  PF  189.0\n",
       "24685   Thaddeus Young  PF  814.0\n",
       "24686      Cody Zeller  PF  639.0\n",
       "\n",
       "[4576 rows x 3 columns]"
      ]
     },
     "execution_count": 43,
     "metadata": {},
     "output_type": "execute_result"
    }
   ],
   "source": [
    "pf"
   ]
  },
  {
   "cell_type": "code",
   "execution_count": 45,
   "metadata": {},
   "outputs": [
    {
     "data": {
      "text/plain": [
       "Text(0.4, 0.95, 'Karl Malone had 10,127 more\\n points than the next closest PF.')"
      ]
     },
     "execution_count": 45,
     "metadata": {},
     "output_type": "execute_result"
    },
    {
     "data": {
      "image/png": "[encoded data removed]",
      "text/plain": [
       "<Figure size 720x360 with 1 Axes>"
      ]
     },
     "metadata": {},
     "output_type": "display_data"
    }
   ],
   "source": [
    "fig, ax = plt.subplots(figsize=(10,5))\n",
    "sns.set_theme(style=\"whitegrid\")\n",
    "ax = sns.barplot(y=pf_top_3['PTS'],x=pf_top_3['Player'],palette='rocket',edgecolor='black')\n",
    "ax.set_title('Highest Scoring PF\\'s')\n",
    "ax.set_xlabel('')\n",
    "ax.set_ylabel('Points')\n",
    "# these are matplotlib.patch.Patch properties\n",
    "props = dict(boxstyle='round', facecolor='wheat', alpha=0.5)\n",
    "# place a text box in upper left in axes coords\n",
    "ax.text(0.4, 0.95, 'Karl Malone had 10,127 more\\n points than the next closest PF.', transform=ax.transAxes, fontsize=12,\n",
    "        verticalalignment='top', bbox=props)\n"
   ]
  },
  {
   "cell_type": "markdown",
   "metadata": {},
   "source": [
    "The next two people in line are kobe bryant and michael jordan. Both players played the same position and were the same hight. How similar were they though. Compared to the rest of the leage greats they stand alone. But how about compared to eachother."
   ]
  },
  {
   "cell_type": "code",
   "execution_count": 46,
   "metadata": {},
   "outputs": [
    {
     "data": {
      "image/png": "[encoded data removed]",
      "text/plain": [
       "<Figure size 720x360 with 1 Axes>"
      ]
     },
     "metadata": {},
     "output_type": "display_data"
    }
   ],
   "source": [
    "fig, ax = plt.subplots(figsize=(10,5))\n",
    "sns.set_theme(style=\"whitegrid\")\n",
    "ax = sns.barplot(y=pf_top_3['Player'],x=pf_top_3['PTS'],palette='rocket',edgecolor='black',orient='h')\n",
    "ax.set_title('Highest Scoring PF\\'s',fontsize=15)\n",
    "ax.set_xlabel('Points',fontsize=13)\n",
    "ax.set_ylabel('')\n",
    "# these are matplotlib.patch.Patch properties\n",
    "props = dict(boxstyle='round', facecolor='wheat', alpha=0.5)\n",
    "# place a text box in upper left in axes coords\n",
    "ax.text(0.7, 0.28, 'Karl Malone has 10,127\\n more points than the\\n next closest PF.', transform=ax.transAxes, fontsize=14,\n",
    "        verticalalignment='top', bbox=props)\n",
    "plt.tight_layout()\n",
    "#plt.savefig('Highest scoring Power Forward\\'s')"
   ]
  },
  {
   "cell_type": "code",
   "execution_count": 50,
   "metadata": {},
   "outputs": [],
   "source": [
    "# Finding the top players that were in the top 10 all time in points, steals, rebrounds, asists, blocks\n",
    "height = season_and_player_df[season_and_player_df['height'] == 198.0]\n",
    "points_ = height[['Player','PTS']].groupby('Player').sum().sort_values(by='PTS',ascending=False).head(10)\n",
    "steals_ = height[['Player','STL']].groupby('Player').sum().sort_values(by='STL',ascending=False).head(10)\n",
    "reb_ = height[['Player','TRB']].groupby('Player').sum().sort_values(by='TRB',ascending=False).head(10)\n",
    "ast_ = height[['Player','AST']].groupby('Player').sum().sort_values(by='AST',ascending=False).head(10)\n",
    "blk_ = height[['Player','BLK']].groupby('Player').sum().sort_values(by='BLK',ascending=False).head(10)"
   ]
  },
  {
   "cell_type": "code",
   "execution_count": 51,
   "metadata": {},
   "outputs": [],
   "source": [
    "o = pd.concat([points_,steals_,reb_,ast_,blk_],axis=1,join='inner')"
   ]
  },
  {
   "cell_type": "code",
   "execution_count": 52,
   "metadata": {},
   "outputs": [
    {
     "data": {
      "text/html": [
       "<div>\n",
       "<style scoped>\n",
       "    .dataframe tbody tr th:only-of-type {\n",
       "        vertical-align: middle;\n",
       "    }\n",
       "\n",
       "    .dataframe tbody tr th {\n",
       "        vertical-align: top;\n",
       "    }\n",
       "\n",
       "    .dataframe thead th {\n",
       "        text-align: right;\n",
       "    }\n",
       "</style>\n",
       "<table border=\"1\" class=\"dataframe\">\n",
       "  <thead>\n",
       "    <tr style=\"text-align: right;\">\n",
       "      <th></th>\n",
       "      <th>PTS</th>\n",
       "      <th>STL</th>\n",
       "      <th>TRB</th>\n",
       "      <th>AST</th>\n",
       "      <th>BLK</th>\n",
       "    </tr>\n",
       "    <tr>\n",
       "      <th>Player</th>\n",
       "      <th></th>\n",
       "      <th></th>\n",
       "      <th></th>\n",
       "      <th></th>\n",
       "      <th></th>\n",
       "    </tr>\n",
       "  </thead>\n",
       "  <tbody>\n",
       "    <tr>\n",
       "      <th>Kobe Bryant</th>\n",
       "      <td>33643.0</td>\n",
       "      <td>1944.0</td>\n",
       "      <td>7047.0</td>\n",
       "      <td>6306.0</td>\n",
       "      <td>640.0</td>\n",
       "    </tr>\n",
       "    <tr>\n",
       "      <th>Michael Jordan*</th>\n",
       "      <td>32292.0</td>\n",
       "      <td>2514.0</td>\n",
       "      <td>6672.0</td>\n",
       "      <td>5633.0</td>\n",
       "      <td>893.0</td>\n",
       "    </tr>\n",
       "    <tr>\n",
       "      <th>Charles Barkley*</th>\n",
       "      <td>23757.0</td>\n",
       "      <td>1648.0</td>\n",
       "      <td>12546.0</td>\n",
       "      <td>4215.0</td>\n",
       "      <td>888.0</td>\n",
       "    </tr>\n",
       "  </tbody>\n",
       "</table>\n",
       "</div>"
      ],
      "text/plain": [
       "                      PTS     STL      TRB     AST    BLK\n",
       "Player                                                   \n",
       "Kobe Bryant       33643.0  1944.0   7047.0  6306.0  640.0\n",
       "Michael Jordan*   32292.0  2514.0   6672.0  5633.0  893.0\n",
       "Charles Barkley*  23757.0  1648.0  12546.0  4215.0  888.0"
      ]
     },
     "execution_count": 52,
     "metadata": {},
     "output_type": "execute_result"
    }
   ],
   "source": [
    "o"
   ]
  },
  {
   "cell_type": "code",
   "execution_count": 53,
   "metadata": {},
   "outputs": [
    {
     "name": "stdout",
     "output_type": "stream",
     "text": [
      "[0.3750947687642153, 0.36003210988716944, 0.26487312134861524]\n",
      "[0.3183753684900098, 0.41172617097936454, 0.2698984605306256]\n",
      "[0.2683038263849229, 0.25402627070245576, 0.47766990291262135]\n",
      "[0.3903677107837068, 0.3487062027980686, 0.26092608641822457]\n"
     ]
    }
   ],
   "source": [
    "arr1 = np.array(o['PTS'])\n",
    "lst1 = []\n",
    "for num in arr1:\n",
    "    a = arr1.sum()\n",
    "    lst1.append(num / a)\n",
    "print(lst1)\n",
    "names = ['Kobe Bryant','Michael Jordan','Charles Barkley']\n",
    "explode1 = (0.1,0,0)\n",
    "\n",
    "arr2 = np.array(o['STL'])\n",
    "lst2 = []\n",
    "for num in arr2:\n",
    "    a = arr2.sum()\n",
    "    lst2.append(num / a)\n",
    "print(lst2)\n",
    "explode2 = (0,0.1,0)\n",
    "\n",
    "\n",
    "arr3 = np.array(o['TRB'])\n",
    "lst3 = []\n",
    "for num in arr3:\n",
    "    a = arr3.sum()\n",
    "    lst3.append(num / a)\n",
    "print(lst3)\n",
    "explode3 = (0,0,0.1)\n",
    "\n",
    "\n",
    "arr4 = np.array(o['AST'])\n",
    "lst4 = []\n",
    "for num in arr4:\n",
    "    a = arr4.sum()\n",
    "    lst4.append(num / a)\n",
    "print(lst4)\n",
    "explode4 = (0.1,0,0)\n"
   ]
  },
  {
   "cell_type": "code",
   "execution_count": 54,
   "metadata": {},
   "outputs": [],
   "source": [
    "colors = ['darkviolet','tab:red','orange']"
   ]
  },
  {
   "cell_type": "code",
   "execution_count": null,
   "metadata": {},
   "outputs": [],
   "source": []
  },
  {
   "cell_type": "code",
   "execution_count": 56,
   "metadata": {},
   "outputs": [
    {
     "data": {
      "image/png": "[encoded data removed]",
      "text/plain": [
       "<Figure size 864x720 with 4 Axes>"
      ]
     },
     "metadata": {},
     "output_type": "display_data"
    }
   ],
   "source": [
    "# Creating a pie chart of who ( MJ / Kobe/ Charles Barkley) had the most of each category\n",
    "fig1, ax1 = plt.subplots(2,2,figsize=(12,10))\n",
    "\n",
    "ax1[0,0].pie(lst1,colors=colors, explode=explode1, autopct='%1.1f%%',\n",
    "        shadow=True, startangle=90)\n",
    "\n",
    "ax1[0,0].set_title('Points',fontsize=16)\n",
    "ax1[0,0].axis('equal')  # Equal aspect ratio ensures that pie is drawn as a circle.\n",
    "\n",
    "\n",
    "ax1[0,1].pie(lst2,colors=colors,explode=explode2,autopct='%1.1f%%',\n",
    "        shadow=True, startangle=90)\n",
    "ax1[0,1].set_title('Steals',fontsize=16)\n",
    "ax1[0,1].axis('equal')  # Equal aspect ratio ensures that pie is drawn as a circle.\n",
    "\n",
    "ax1[1,0].pie(lst3,colors=colors,explode=explode3,autopct='%1.1f%%',\n",
    "        shadow=True, startangle=90,normalize=False)\n",
    "ax1[1,0].set_title('Rebounds',fontsize=16)\n",
    "ax1[1,0].axis('equal')  # Equal aspect ratio ensures that pie is drawn as a circle.\n",
    "\n",
    "ax1[1,1].pie(lst4,colors=colors,explode=explode4,autopct='%1.1f%%',\n",
    "        shadow=True, startangle=90,normalize=False)\n",
    "ax1[1,1].set_title('Assists',fontsize=16)\n",
    "ax1[1,1].axis('equal')  # Equal aspect ratio ensures that pie is drawn as a circle.\n",
    "\n",
    "ttl = plt.suptitle('Combined Points, Steals, Rebounds, Assists',fontsize=20)\n",
    "ttl.set_position([.5,1.05])\n",
    "plt.legend(names,loc=(.95,1),prop={'size': 20})\n",
    "plt.tight_layout()\n",
    "#plt.savefig('Kobe MJ and Charles Barkley')\n",
    "plt.show()\n"
   ]
  },
  {
   "cell_type": "markdown",
   "metadata": {},
   "source": [
    "# Better by Points\n",
    "\n",
    "### The main focus of this project is to compare Michael Jordan and Kobe Bryant. However as a spoiler, at the end I wanted to see how lebron compared to the \"Winner\" of the MJ and Kobe debate."
   ]
  },
  {
   "cell_type": "code",
   "execution_count": 62,
   "metadata": {},
   "outputs": [],
   "source": [
    "mj_lebron_kobe = pd.read_csv('../data/allgames_stats.csv')"
   ]
  },
  {
   "cell_type": "code",
   "execution_count": 63,
   "metadata": {},
   "outputs": [],
   "source": [
    "mj_full = mj_lebron_kobe[mj_lebron_kobe['Player'] == 'Michael Jordan']\n",
    "kobe_full = mj_lebron_kobe[mj_lebron_kobe['Player'] == 'Kobe Bryant']\n",
    "lebron_full = mj_lebron_kobe[mj_lebron_kobe['Player'] == 'Lebron James']"
   ]
  },
  {
   "cell_type": "code",
   "execution_count": 64,
   "metadata": {},
   "outputs": [],
   "source": [
    "def str_to_number(time_str):\n",
    "    if not isinstance(time_str, str):\n",
    "        return 0\n",
    "    minutes, sec, *_ = [int(x) for x in time_str.split(':')]\n",
    "    return minutes + sec / 60\n"
   ]
  },
  {
   "cell_type": "code",
   "execution_count": 65,
   "metadata": {},
   "outputs": [
    {
     "name": "stderr",
     "output_type": "stream",
     "text": [
      "/Users/AlexMartinez/opt/anaconda3/lib/python3.7/site-packages/pandas/core/generic.py:5494: SettingWithCopyWarning: \n",
      "A value is trying to be set on a copy of a slice from a DataFrame.\n",
      "Try using .loc[row_indexer,col_indexer] = value instead\n",
      "\n",
      "See the caveats in the documentation: https://pandas.pydata.org/pandas-docs/stable/user_guide/indexing.html#returning-a-view-versus-a-copy\n",
      "  self[name] = value\n"
     ]
    }
   ],
   "source": [
    "mj_full.MP = mj_full.MP.map(str_to_number)\n",
    "kobe_full.MP = kobe_full.MP.map(str_to_number)\n",
    "lebron_full.MP = lebron_full.MP.map(str_to_number)"
   ]
  },
  {
   "cell_type": "code",
   "execution_count": 66,
   "metadata": {},
   "outputs": [],
   "source": [
    "#Only took the games where players played moore than 25 minutes in a game.\n",
    "mj_over_20min = mj_full[mj_full['MP'] > 20]\n",
    "kobe_over_20min = kobe_full[kobe_full['MP'] > 20]\n",
    "lebron_over_20min = lebron_full[lebron_full['MP'] > 20]"
   ]
  },
  {
   "cell_type": "code",
   "execution_count": 67,
   "metadata": {},
   "outputs": [],
   "source": [
    "mj_pts = mj_over_20min['PTS'].dropna()\n",
    "kobe_pts = kobe_over_20min['PTS'].dropna()"
   ]
  },
  {
   "cell_type": "code",
   "execution_count": 68,
   "metadata": {},
   "outputs": [
    {
     "data": {
      "text/plain": [
       "Ttest_indResult(statistic=-12.14347959783353, pvalue=4.4125241537750846e-33)"
      ]
     },
     "execution_count": 68,
     "metadata": {},
     "output_type": "execute_result"
    }
   ],
   "source": [
    "x = stats.ttest_ind(kobe_pts,mj_pts)\n",
    "x"
   ]
  },
  {
   "cell_type": "markdown",
   "metadata": {},
   "source": [
    "# Man Whitney Test"
   ]
  },
  {
   "cell_type": "code",
   "execution_count": 69,
   "metadata": {},
   "outputs": [],
   "source": [
    "def count_winning_pairs(sample_1, sample_2):\n",
    "    sample_1, sample_2 = np.array(sample_1), np.array(sample_2)\n",
    "    n_total_wins = 0\n",
    "    for x in sample_1:\n",
    "        n_wins = np.sum(x > sample_2) + 0.5*np.sum(x == sample_2)\n",
    "        n_total_wins += n_wins\n",
    "    return n_total_wins"
   ]
  },
  {
   "cell_type": "code",
   "execution_count": 70,
   "metadata": {},
   "outputs": [
    {
     "name": "stdout",
     "output_type": "stream",
     "text": [
      "Number of MJ Wins: 1163381.5\n",
      "Number of Kobe Wins: 663422.5\n"
     ]
    }
   ],
   "source": [
    "mj_wins_pts = count_winning_pairs(mj_pts, kobe_pts)\n",
    "kobe_wins_pts = count_winning_pairs(kobe_pts, mj_pts)\n",
    "print(\"Number of MJ Wins: {}\".format(mj_wins_pts))\n",
    "print(\"Number of Kobe Wins: {}\".format(kobe_wins_pts)) "
   ]
  },
  {
   "cell_type": "code",
   "execution_count": 71,
   "metadata": {},
   "outputs": [
    {
     "name": "stdout",
     "output_type": "stream",
     "text": [
      "MannwhitneyuResult(statistic=1163381.5, pvalue=4.5404005782192395e-35)\n",
      "p-value for MJ < Kobe: 0.000\n"
     ]
    }
   ],
   "source": [
    "res = stats.mannwhitneyu(mj_pts, kobe_pts, alternative=\"greater\")\n",
    "print(res)\n",
    "print(\"p-value for MJ < Kobe: {:2.3f}\".format(res.pvalue))"
   ]
  },
  {
   "cell_type": "markdown",
   "metadata": {},
   "source": [
    "# Better by Rebounds"
   ]
  },
  {
   "cell_type": "markdown",
   "metadata": {},
   "source": [
    "- A rebound is awarded to a player who retrieves the ball after a missed field goal or free throw. These can be awarded on both offence and defense and can be extremely important in a single game"
   ]
  },
  {
   "cell_type": "code",
   "execution_count": 72,
   "metadata": {},
   "outputs": [],
   "source": [
    "mj_reb = mj_over_20min['TRB']\n",
    "kobe_reb = kobe_over_20min['TRB']"
   ]
  },
  {
   "cell_type": "code",
   "execution_count": 73,
   "metadata": {},
   "outputs": [
    {
     "data": {
      "text/plain": [
       "Ttest_indResult(statistic=-7.948122327547394, pvalue=2.7486057812105945e-15)"
      ]
     },
     "execution_count": 73,
     "metadata": {},
     "output_type": "execute_result"
    }
   ],
   "source": [
    "y = stats.ttest_ind(kobe_reb,mj_reb)\n",
    "y"
   ]
  },
  {
   "cell_type": "code",
   "execution_count": 74,
   "metadata": {},
   "outputs": [
    {
     "name": "stdout",
     "output_type": "stream",
     "text": [
      "MannwhitneyuResult(statistic=1073599.0, pvalue=1.0903906067324378e-14)\n",
      "p-value for MJ < Kobe: 0.000\n"
     ]
    }
   ],
   "source": [
    "res2 = stats.mannwhitneyu(mj_reb, kobe_reb, alternative=\"greater\")\n",
    "print(res2)\n",
    "print(\"p-value for MJ < Kobe: {:2.3f}\".format(res2.pvalue))"
   ]
  },
  {
   "cell_type": "code",
   "execution_count": 75,
   "metadata": {},
   "outputs": [
    {
     "name": "stdout",
     "output_type": "stream",
     "text": [
      "Number of MJ Wins: 1073599.0\n",
      "Number of Kobe Wins: 763593.0\n"
     ]
    }
   ],
   "source": [
    "mj_wins_reb = count_winning_pairs(mj_reb, kobe_reb)\n",
    "kobe_wins_reb = count_winning_pairs(kobe_reb, mj_reb)\n",
    "print(\"Number of MJ Wins: {}\".format(mj_wins_reb))\n",
    "print(\"Number of Kobe Wins: {}\".format(kobe_wins_reb)) "
   ]
  },
  {
   "cell_type": "markdown",
   "metadata": {},
   "source": [
    "# Better by assists"
   ]
  },
  {
   "cell_type": "code",
   "execution_count": 76,
   "metadata": {},
   "outputs": [],
   "source": [
    "mj_ast = mj_over_20min['AST']\n",
    "kobe_ast = kobe_over_20min['AST']"
   ]
  },
  {
   "cell_type": "code",
   "execution_count": 77,
   "metadata": {},
   "outputs": [
    {
     "data": {
      "text/plain": [
       "Ttest_indResult(statistic=-4.3567781310809925, pvalue=1.3688054607231231e-05)"
      ]
     },
     "execution_count": 77,
     "metadata": {},
     "output_type": "execute_result"
    }
   ],
   "source": [
    "z = stats.ttest_ind(kobe_ast,mj_ast)\n",
    "z"
   ]
  },
  {
   "cell_type": "code",
   "execution_count": 78,
   "metadata": {},
   "outputs": [
    {
     "name": "stdout",
     "output_type": "stream",
     "text": [
      "MannwhitneyuResult(statistic=1006312.5, pvalue=7.588436524517679e-06)\n",
      "p-value for MJ < Kobe: 0.000\n"
     ]
    }
   ],
   "source": [
    "res3 = stats.mannwhitneyu(mj_ast, kobe_ast, alternative=\"greater\")\n",
    "print(res3)\n",
    "print(\"p-value for MJ < Kobe: {:2.3f}\".format(res3.pvalue))"
   ]
  },
  {
   "cell_type": "code",
   "execution_count": 79,
   "metadata": {},
   "outputs": [
    {
     "name": "stdout",
     "output_type": "stream",
     "text": [
      "Number of MJ Wins: 1006312.5\n",
      "Number of Kobe Wins: 830879.5\n"
     ]
    }
   ],
   "source": [
    "mj_wins_ast = count_winning_pairs(mj_ast, kobe_ast)\n",
    "kobe_wins_ast = count_winning_pairs(kobe_ast, mj_ast)\n",
    "print(\"Number of MJ Wins: {}\".format(mj_wins_ast))\n",
    "print(\"Number of Kobe Wins: {}\".format(kobe_wins_ast))"
   ]
  },
  {
   "cell_type": "markdown",
   "metadata": {},
   "source": [
    "# Better overall GmSc in carear"
   ]
  },
  {
   "cell_type": "markdown",
   "metadata": {},
   "source": [
    "GmSc - Game Score; the formula is PTS + 0.4 * FG - 0.7 * FGA - 0.4*(FTA - FT) + 0.7 * ORB + 0.3 * DRB + STL + 0.7 * AST + 0.7 * BLK - 0.4 * PF - TOV. Game Score was created by John Hollinger to give a rough measure of a player's productivity for a single game."
   ]
  },
  {
   "cell_type": "code",
   "execution_count": 80,
   "metadata": {},
   "outputs": [],
   "source": [
    "mj_gmsc = mj_over_20min['GmSc'].dropna()\n",
    "kobe_gmsc = kobe_over_20min['GmSc'].dropna()"
   ]
  },
  {
   "cell_type": "code",
   "execution_count": 81,
   "metadata": {},
   "outputs": [
    {
     "data": {
      "text/plain": [
       "Ttest_indResult(statistic=13.517910169128047, pvalue=2.9413250225125603e-40)"
      ]
     },
     "execution_count": 81,
     "metadata": {},
     "output_type": "execute_result"
    }
   ],
   "source": [
    "g = stats.ttest_ind(mj_gmsc,kobe_gmsc)\n",
    "g"
   ]
  },
  {
   "cell_type": "code",
   "execution_count": 82,
   "metadata": {},
   "outputs": [
    {
     "name": "stdout",
     "output_type": "stream",
     "text": [
      "MannwhitneyuResult(statistic=1023460.5, pvalue=8.970248616618039e-41)\n",
      "p-value for MJ < Kobe: 0.000\n"
     ]
    }
   ],
   "source": [
    "res4 = stats.mannwhitneyu(mj_gmsc, kobe_gmsc, alternative=\"greater\")\n",
    "print(res4)\n",
    "print(\"p-value for MJ < Kobe: {:2.3f}\".format(res4.pvalue))"
   ]
  },
  {
   "cell_type": "code",
   "execution_count": 83,
   "metadata": {},
   "outputs": [
    {
     "name": "stdout",
     "output_type": "stream",
     "text": [
      "Number of MJ Wins: 1023460.5\n",
      "Number of Kobe Wins: 539191.5\n"
     ]
    }
   ],
   "source": [
    "mj_wins_gmsc = count_winning_pairs(mj_gmsc, kobe_gmsc)\n",
    "kobe_wins_gmsc = count_winning_pairs(kobe_gmsc, mj_gmsc)\n",
    "print(\"Number of MJ Wins: {}\".format(mj_wins_gmsc))\n",
    "print(\"Number of Kobe Wins: {}\".format(kobe_wins_gmsc))"
   ]
  },
  {
   "cell_type": "markdown",
   "metadata": {},
   "source": [
    "# Win to Loss comparison"
   ]
  },
  {
   "cell_type": "markdown",
   "metadata": {},
   "source": [
    "- Winning and losing in basketball is something people bring up in these debates however winning and loosing doesnt fall on the shoulder of just one player. Its a team game. But players like Kobe and MJ do have an impact on the games they play in. So we will be comparing thier wins and losses to each other"
   ]
  },
  {
   "cell_type": "code",
   "execution_count": 84,
   "metadata": {},
   "outputs": [],
   "source": [
    "def wins_losses_to_num(res):\n",
    "    if res == 'W':\n",
    "        return 1\n",
    "    else:\n",
    "        return 0\n",
    "    \n",
    "    "
   ]
  },
  {
   "cell_type": "code",
   "execution_count": 85,
   "metadata": {},
   "outputs": [],
   "source": [
    "mj_w_l = mj_over_20min.Result.map(wins_losses_to_num)\n",
    "kobe_w_l = kobe_over_20min.Result.map(wins_losses_to_num)"
   ]
  },
  {
   "cell_type": "code",
   "execution_count": 86,
   "metadata": {},
   "outputs": [
    {
     "data": {
      "text/plain": [
       "Ttest_indResult(statistic=2.3679163356016453, pvalue=0.017958149062341604)"
      ]
     },
     "execution_count": 86,
     "metadata": {},
     "output_type": "execute_result"
    }
   ],
   "source": [
    "l = stats.ttest_ind(mj_w_l,kobe_w_l)\n",
    "l"
   ]
  },
  {
   "cell_type": "code",
   "execution_count": 87,
   "metadata": {},
   "outputs": [
    {
     "name": "stdout",
     "output_type": "stream",
     "text": [
      "MannwhitneyuResult(statistic=958794.0, pvalue=0.008993519069513713)\n",
      "p-value for MJ < Kobe: 0.009\n"
     ]
    }
   ],
   "source": [
    "res5 = stats.mannwhitneyu(mj_w_l, kobe_w_l, alternative=\"greater\")\n",
    "print(res5)\n",
    "print(\"p-value for MJ < Kobe: {:2.3f}\".format(res5.pvalue))"
   ]
  },
  {
   "cell_type": "code",
   "execution_count": 88,
   "metadata": {},
   "outputs": [
    {
     "name": "stdout",
     "output_type": "stream",
     "text": [
      "Number of MJ Wins: 958794.0\n",
      "Number of Kobe Wins: 878398.0\n"
     ]
    }
   ],
   "source": [
    "mj_wins_w_l = count_winning_pairs(mj_w_l, kobe_w_l)\n",
    "kobe_wins_w_l = count_winning_pairs(kobe_w_l, mj_w_l)\n",
    "print(\"Number of MJ Wins: {}\".format(mj_wins_w_l))\n",
    "print(\"Number of Kobe Wins: {}\".format(kobe_wins_w_l))"
   ]
  },
  {
   "cell_type": "markdown",
   "metadata": {},
   "source": [
    "# Steals"
   ]
  },
  {
   "cell_type": "code",
   "execution_count": null,
   "metadata": {},
   "outputs": [],
   "source": []
  },
  {
   "cell_type": "code",
   "execution_count": 89,
   "metadata": {},
   "outputs": [],
   "source": [
    "mj_stl = mj_over_20min['STL'].dropna()\n",
    "kobe_stl = kobe_over_20min['STL'].dropna()"
   ]
  },
  {
   "cell_type": "code",
   "execution_count": 90,
   "metadata": {},
   "outputs": [
    {
     "data": {
      "text/plain": [
       "Ttest_indResult(statistic=14.252221251995884, pvalue=1.6934740027655064e-44)"
      ]
     },
     "execution_count": 90,
     "metadata": {},
     "output_type": "execute_result"
    }
   ],
   "source": [
    "s = stats.ttest_ind(mj_stl,kobe_stl)\n",
    "s"
   ]
  },
  {
   "cell_type": "code",
   "execution_count": 91,
   "metadata": {},
   "outputs": [
    {
     "name": "stdout",
     "output_type": "stream",
     "text": [
      "MannwhitneyuResult(statistic=1178309.5, pvalue=5.7116491805132094e-42)\n",
      "p-value for MJ < Kobe: 0.000\n"
     ]
    }
   ],
   "source": [
    "res6 = stats.mannwhitneyu(mj_stl, kobe_stl, alternative=\"greater\")\n",
    "print(res6)\n",
    "print(\"p-value for MJ < Kobe: {:2.3f}\".format(res6.pvalue))"
   ]
  },
  {
   "cell_type": "code",
   "execution_count": 92,
   "metadata": {},
   "outputs": [
    {
     "name": "stdout",
     "output_type": "stream",
     "text": [
      "Number of MJ Wins: 1178309.5\n",
      "Number of Kobe Wins: 642558.5\n"
     ]
    }
   ],
   "source": [
    "mj_wins_stl = count_winning_pairs(mj_stl, kobe_stl)\n",
    "kobe_wins_stl = count_winning_pairs(kobe_stl, mj_stl)\n",
    "print(\"Number of MJ Wins: {}\".format(mj_wins_stl))\n",
    "print(\"Number of Kobe Wins: {}\".format(kobe_wins_stl))"
   ]
  },
  {
   "cell_type": "markdown",
   "metadata": {},
   "source": [
    "# Blocks"
   ]
  },
  {
   "cell_type": "code",
   "execution_count": 93,
   "metadata": {},
   "outputs": [],
   "source": [
    "mj_blk = mj_over_20min['BLK'].dropna()\n",
    "kobe_blk = kobe_over_20min['BLK'].dropna()"
   ]
  },
  {
   "cell_type": "code",
   "execution_count": 94,
   "metadata": {},
   "outputs": [
    {
     "name": "stdout",
     "output_type": "stream",
     "text": [
      "MannwhitneyuResult(statistic=1178309.5, pvalue=5.7116491805132094e-42)\n",
      "p-value for MJ < Kobe: 0.000\n"
     ]
    }
   ],
   "source": [
    "res7 = stats.mannwhitneyu(mj_blk, kobe_blk, alternative=\"greater\")\n",
    "print(res6)\n",
    "print(\"p-value for MJ < Kobe: {:2.3f}\".format(res7.pvalue))"
   ]
  },
  {
   "cell_type": "code",
   "execution_count": 95,
   "metadata": {},
   "outputs": [
    {
     "name": "stdout",
     "output_type": "stream",
     "text": [
      "Number of MJ Wins: 1086752.5\n",
      "Number of Kobe Wins: 748955.5\n"
     ]
    }
   ],
   "source": [
    "mj_wins_blk = count_winning_pairs(mj_blk, kobe_blk)\n",
    "kobe_wins_blk = count_winning_pairs(kobe_blk, mj_blk)\n",
    "print(\"Number of MJ Wins: {}\".format(mj_wins_blk))\n",
    "print(\"Number of Kobe Wins: {}\".format(kobe_wins_blk))"
   ]
  },
  {
   "cell_type": "code",
   "execution_count": null,
   "metadata": {},
   "outputs": [],
   "source": []
  },
  {
   "cell_type": "code",
   "execution_count": 96,
   "metadata": {},
   "outputs": [
    {
     "data": {
      "image/png": "[encoded data removed]",
      "text/plain": [
       "<Figure size 1440x720 with 4 Axes>"
      ]
     },
     "metadata": {},
     "output_type": "display_data"
    }
   ],
   "source": [
    "m = mj_over_20min['PTS']\n",
    "k = kobe_over_20min['PTS']\n",
    "\n",
    "mr = mj_over_20min['TRB']\n",
    "kr = kobe_over_20min['TRB']\n",
    "\n",
    "ms = mj_over_20min['STL']\n",
    "ks = kobe_over_20min['STL']\n",
    "\n",
    "ma = mj_over_20min['AST']\n",
    "ka = kobe_over_20min['AST']\n",
    "\n",
    "plt.style.use('seaborn-muted')\n",
    "\n",
    "# x = m\n",
    "# y = k\n",
    "bins = np.linspace(0, 85, 20) - 0.5\n",
    "bins2 = np.linspace(1,17,17) - 0.5\n",
    "bins3 = np.linspace(1,7,7) - 0.5\n",
    "bins4 = np.linspace(1,16,16) - 0.5\n",
    "# plt.hist([x, y], bins, label=['MJ', 'Kobe'])\n",
    "# plt.legend(loc='upper right')\n",
    "# plt.xlabel('Points in Game')\n",
    "# plt.title('Carear Games Over 20 minutes')\n",
    "# plt.show()\n",
    "\n",
    "\n",
    "fig, axs = plt.subplots(2, 2,figsize=(20,10))\n",
    "\n",
    "axs[0, 0].hist([m, k],bins,color=['tab:cyan','tab:pink'],edgecolor='black')\n",
    "axs[0, 0].set_title('Points',fontsize=20)\n",
    "axs[0,0].set_xticks(range(0,86,5))\n",
    "axs[0, 0].legend(['MJ','Kobe'])\n",
    "axs[0,0].grid('on')\n",
    "axs[0,0].set_ylabel('# of occurrences',fontsize=15)\n",
    "axs[0,0].set_xlim(xmin=0)\n",
    "\n",
    "\n",
    "axs[0, 1].hist([mr, kr],bins2,color=['tab:green','blue'],edgecolor='black')\n",
    "axs[0, 1].set_title('Rebounds',fontsize=20)\n",
    "#axs[0,1].set_facecolor('tab:grey')\n",
    "axs[0, 1].legend(['MJ','Kobe'])\n",
    "axs[0,1].grid('on')\n",
    "axs[0,1].set_xlim(xmin=0)\n",
    "\n",
    "axs[1, 0].hist([ms, ks], bins3,color=['tab:blue','tab:orange'],edgecolor='black')\n",
    "axs[1, 0].set_title('Steals',fontsize=20)\n",
    "#axs[1,0].set_facecolor('tab:grey')\n",
    "axs[1, 0].legend(['MJ','Kobe'])\n",
    "axs[1,0].grid('on')\n",
    "axs[1,0].set_ylabel('# of occurrences',fontsize=15)\n",
    "axs[1,0].set_xlim(xmin=0)\n",
    "\n",
    "\n",
    "axs[1, 1].hist([ma, ka],bins4,color=['tab:grey','tab:purple'],edgecolor='black')\n",
    "axs[1, 1].set_title('Assists',fontsize=20)\n",
    "# axs[1,1].set_facecolor('black')\n",
    "axs[1, 1].legend(['MJ','Kobe'])\n",
    "axs[1,1].grid('on')\n",
    "axs[1,1].set_xlim(xmin=0)\n",
    "\n",
    "plt.suptitle('Michael Jordan vs Kobe Bryant',fontsize=30)\n",
    "# for ax in axs.flat:\n",
    "#     ax.label_outer()\n",
    "# plt.tight_layout()\n",
    "plt.grid('on')\n",
    "#plt.savefig('Histograms comparing MJ and Kobe Stats')\n",
    "plt.show()"
   ]
  },
  {
   "cell_type": "code",
   "execution_count": null,
   "metadata": {},
   "outputs": [],
   "source": []
  },
  {
   "cell_type": "code",
   "execution_count": 97,
   "metadata": {},
   "outputs": [],
   "source": [
    "lebron = mj_lebron_kobe[mj_lebron_kobe['Player'] == 'Lebron James']"
   ]
  },
  {
   "cell_type": "code",
   "execution_count": 98,
   "metadata": {},
   "outputs": [],
   "source": [
    "\n",
    "\n",
    "leb_pts = lebron['PTS'].dropna()\n",
    "leb_ast = lebron['AST'].dropna()\n",
    "leb_reb = lebron['TRB'].dropna()\n",
    "leb_stl = lebron['STL'].dropna()\n",
    "leb_blk = lebron['BLK'].dropna()\n",
    "\n",
    "mj_blk = mj_full['BLK']\n",
    "mj_pt = mj_full['PTS']\n",
    "mj_as = mj_full['AST']\n",
    "mj_re = mj_full['TRB']"
   ]
  },
  {
   "cell_type": "code",
   "execution_count": 99,
   "metadata": {},
   "outputs": [
    {
     "name": "stdout",
     "output_type": "stream",
     "text": [
      "MannwhitneyuResult(statistic=655709.0, pvalue=1.0)\n",
      "p-value for MJ having less rebounds than Lebron: 1.000\n"
     ]
    }
   ],
   "source": [
    "res8 = stats.mannwhitneyu(mj_reb, leb_reb, alternative=\"greater\")\n",
    "print(res8)\n",
    "print(\"p-value for MJ having less rebounds than Lebron: {:2.3f}\".format(res8.pvalue))"
   ]
  },
  {
   "cell_type": "code",
   "execution_count": 100,
   "metadata": {},
   "outputs": [
    {
     "data": {
      "text/plain": [
       "11002"
      ]
     },
     "execution_count": 100,
     "metadata": {},
     "output_type": "execute_result"
    }
   ],
   "source": [
    "leb_reb.sum()"
   ]
  },
  {
   "cell_type": "code",
   "execution_count": 101,
   "metadata": {},
   "outputs": [
    {
     "data": {
      "text/plain": [
       "7790"
      ]
     },
     "execution_count": 101,
     "metadata": {},
     "output_type": "execute_result"
    }
   ],
   "source": [
    "mj_reb.sum()"
   ]
  },
  {
   "cell_type": "code",
   "execution_count": 102,
   "metadata": {},
   "outputs": [
    {
     "name": "stdout",
     "output_type": "stream",
     "text": [
      "MannwhitneyuResult(statistic=1080113.5, pvalue=4.141998780208815e-20)\n",
      "p-value for MJ scoring less than Lebron: 0.000\n",
      "MannwhitneyuResult(statistic=904453.0, pvalue=0.3815065662851238)\n",
      "p-value for MJ having less blocks than Lebron: 0.382\n"
     ]
    }
   ],
   "source": [
    "r1 = stats.mannwhitneyu(mj_pt, leb_pts, alternative=\"greater\")\n",
    "print(r1)\n",
    "print(\"p-value for MJ scoring less than Lebron: {:2.3f}\".format(r1.pvalue))\n",
    "# r2 = stats.mannwhitneyu(mj_ast, leb_ast, alternative=\"greater\")\n",
    "# print(r2)\n",
    "# print(\"p-value for MJ < lebron: {:2.3f}\".format(r2.pvalue))\n",
    "# r3 = stats.mannwhitneyu(mj_reb, leb_reb, alternative=\"greater\")\n",
    "# print(r3)\n",
    "# print(\"p-value for MJ < lebron: {:2.3f}\".format(r3.pvalue))\n",
    "# r4 = stats.mannwhitneyu(mj_stl, leb_stl, alternative=\"greater\")\n",
    "# print(r4)\n",
    "# print(\"p-value for MJ < lebron: {:2.3f}\".format(r4.pvalue))\n",
    "r5 = stats.mannwhitneyu(mj_blk, leb_blk, alternative=\"greater\")\n",
    "print(r5)\n",
    "print(\"p-value for MJ having less blocks than Lebron: {:2.3f}\".format(r5.pvalue))"
   ]
  },
  {
   "cell_type": "markdown",
   "metadata": {},
   "source": [
    "As of 2017 comparing total Blocks for Michael Jordan and LeBron James we fail to reject the null hypothesis that MJ will get less blocks than lebron."
   ]
  },
  {
   "cell_type": "code",
   "execution_count": 103,
   "metadata": {},
   "outputs": [],
   "source": [
    "lebron_mj_blocks = Season_stats[['Player','BLK']].groupby('Player').sum().sort_values(by='BLK',ascending=False).reset_index()"
   ]
  },
  {
   "cell_type": "code",
   "execution_count": 104,
   "metadata": {},
   "outputs": [],
   "source": [
    "lb = lebron_mj_blocks[lebron_mj_blocks['Player'] == 'LeBron James']"
   ]
  },
  {
   "cell_type": "code",
   "execution_count": 105,
   "metadata": {},
   "outputs": [
    {
     "data": {
      "text/html": [
       "<div>\n",
       "<style scoped>\n",
       "    .dataframe tbody tr th:only-of-type {\n",
       "        vertical-align: middle;\n",
       "    }\n",
       "\n",
       "    .dataframe tbody tr th {\n",
       "        vertical-align: top;\n",
       "    }\n",
       "\n",
       "    .dataframe thead th {\n",
       "        text-align: right;\n",
       "    }\n",
       "</style>\n",
       "<table border=\"1\" class=\"dataframe\">\n",
       "  <thead>\n",
       "    <tr style=\"text-align: right;\">\n",
       "      <th></th>\n",
       "      <th>Player</th>\n",
       "      <th>BLK</th>\n",
       "    </tr>\n",
       "  </thead>\n",
       "  <tbody>\n",
       "    <tr>\n",
       "      <th>127</th>\n",
       "      <td>LeBron James</td>\n",
       "      <td>817.0</td>\n",
       "    </tr>\n",
       "  </tbody>\n",
       "</table>\n",
       "</div>"
      ],
      "text/plain": [
       "           Player    BLK\n",
       "127  LeBron James  817.0"
      ]
     },
     "execution_count": 105,
     "metadata": {},
     "output_type": "execute_result"
    }
   ],
   "source": [
    "lb"
   ]
  },
  {
   "cell_type": "code",
   "execution_count": 106,
   "metadata": {},
   "outputs": [],
   "source": [
    "mb = lebron_mj_blocks[lebron_mj_blocks['Player'] == 'Michael Jordan*']"
   ]
  },
  {
   "cell_type": "code",
   "execution_count": 107,
   "metadata": {},
   "outputs": [
    {
     "data": {
      "text/html": [
       "<div>\n",
       "<style scoped>\n",
       "    .dataframe tbody tr th:only-of-type {\n",
       "        vertical-align: middle;\n",
       "    }\n",
       "\n",
       "    .dataframe tbody tr th {\n",
       "        vertical-align: top;\n",
       "    }\n",
       "\n",
       "    .dataframe thead th {\n",
       "        text-align: right;\n",
       "    }\n",
       "</style>\n",
       "<table border=\"1\" class=\"dataframe\">\n",
       "  <thead>\n",
       "    <tr style=\"text-align: right;\">\n",
       "      <th></th>\n",
       "      <th>Player</th>\n",
       "      <th>BLK</th>\n",
       "    </tr>\n",
       "  </thead>\n",
       "  <tbody>\n",
       "    <tr>\n",
       "      <th>107</th>\n",
       "      <td>Michael Jordan*</td>\n",
       "      <td>893.0</td>\n",
       "    </tr>\n",
       "  </tbody>\n",
       "</table>\n",
       "</div>"
      ],
      "text/plain": [
       "              Player    BLK\n",
       "107  Michael Jordan*  893.0"
      ]
     },
     "execution_count": 107,
     "metadata": {},
     "output_type": "execute_result"
    }
   ],
   "source": [
    "mb"
   ]
  },
  {
   "cell_type": "code",
   "execution_count": 108,
   "metadata": {},
   "outputs": [],
   "source": [
    "Stat = ['Points','Assists','Rebounds','Steals','Blocks','Wins/Losses','Game Score']\n",
    "end_df = pd.DataFrame({'MJ Wins': [mj_wins_pts,mj_wins_ast,mj_wins_reb,mj_wins_stl,mj_wins_blk,mj_wins_w_l,mj_wins_gmsc ],\n",
    "                      'Kobe Wins': [kobe_wins_pts,kobe_wins_ast,kobe_wins_reb,kobe_wins_stl,kobe_wins_blk,kobe_wins_w_l,kobe_wins_gmsc ]}\n",
    "                      , index=Stat)\n",
    "end_df['Total Comparisons'] = end_df['MJ Wins'] + end_df['Kobe Wins']\n",
    "end_df['P-Value'] = [\"{:2.3f}\".format(res.pvalue),\n",
    "                     \"{:2.3f}\".format(res3.pvalue),\n",
    "                     \"{:2.3f}\".format(res2.pvalue),\n",
    "                     \"{:2.3f}\".format(res6.pvalue),\n",
    "                     \"{:2.3f}\".format(res7.pvalue),\n",
    "                     \"{:2.3f}\".format(res5.pvalue),\n",
    "                     \"{:2.3f}\".format(res4.pvalue)]"
   ]
  },
  {
   "cell_type": "code",
   "execution_count": 109,
   "metadata": {},
   "outputs": [
    {
     "data": {
      "text/html": [
       "<div>\n",
       "<style scoped>\n",
       "    .dataframe tbody tr th:only-of-type {\n",
       "        vertical-align: middle;\n",
       "    }\n",
       "\n",
       "    .dataframe tbody tr th {\n",
       "        vertical-align: top;\n",
       "    }\n",
       "\n",
       "    .dataframe thead th {\n",
       "        text-align: right;\n",
       "    }\n",
       "</style>\n",
       "<table border=\"1\" class=\"dataframe\">\n",
       "  <thead>\n",
       "    <tr style=\"text-align: right;\">\n",
       "      <th></th>\n",
       "      <th>MJ Wins</th>\n",
       "      <th>Kobe Wins</th>\n",
       "      <th>Total Comparisons</th>\n",
       "      <th>P-Value</th>\n",
       "    </tr>\n",
       "  </thead>\n",
       "  <tbody>\n",
       "    <tr>\n",
       "      <th>Points</th>\n",
       "      <td>1163381.5</td>\n",
       "      <td>663422.5</td>\n",
       "      <td>1826804.0</td>\n",
       "      <td>0.000</td>\n",
       "    </tr>\n",
       "    <tr>\n",
       "      <th>Assists</th>\n",
       "      <td>1006312.5</td>\n",
       "      <td>830879.5</td>\n",
       "      <td>1837192.0</td>\n",
       "      <td>0.000</td>\n",
       "    </tr>\n",
       "    <tr>\n",
       "      <th>Rebounds</th>\n",
       "      <td>1073599.0</td>\n",
       "      <td>763593.0</td>\n",
       "      <td>1837192.0</td>\n",
       "      <td>0.000</td>\n",
       "    </tr>\n",
       "    <tr>\n",
       "      <th>Steals</th>\n",
       "      <td>1178309.5</td>\n",
       "      <td>642558.5</td>\n",
       "      <td>1820868.0</td>\n",
       "      <td>0.000</td>\n",
       "    </tr>\n",
       "    <tr>\n",
       "      <th>Blocks</th>\n",
       "      <td>1086752.5</td>\n",
       "      <td>748955.5</td>\n",
       "      <td>1835708.0</td>\n",
       "      <td>0.000</td>\n",
       "    </tr>\n",
       "    <tr>\n",
       "      <th>Wins/Losses</th>\n",
       "      <td>958794.0</td>\n",
       "      <td>878398.0</td>\n",
       "      <td>1837192.0</td>\n",
       "      <td>0.009</td>\n",
       "    </tr>\n",
       "    <tr>\n",
       "      <th>Game Score</th>\n",
       "      <td>1023460.5</td>\n",
       "      <td>539191.5</td>\n",
       "      <td>1562652.0</td>\n",
       "      <td>0.000</td>\n",
       "    </tr>\n",
       "  </tbody>\n",
       "</table>\n",
       "</div>"
      ],
      "text/plain": [
       "               MJ Wins  Kobe Wins  Total Comparisons P-Value\n",
       "Points       1163381.5   663422.5          1826804.0   0.000\n",
       "Assists      1006312.5   830879.5          1837192.0   0.000\n",
       "Rebounds     1073599.0   763593.0          1837192.0   0.000\n",
       "Steals       1178309.5   642558.5          1820868.0   0.000\n",
       "Blocks       1086752.5   748955.5          1835708.0   0.000\n",
       "Wins/Losses   958794.0   878398.0          1837192.0   0.009\n",
       "Game Score   1023460.5   539191.5          1562652.0   0.000"
      ]
     },
     "execution_count": 109,
     "metadata": {},
     "output_type": "execute_result"
    }
   ],
   "source": [
    "end_df"
   ]
  },
  {
   "cell_type": "code",
   "execution_count": null,
   "metadata": {},
   "outputs": [],
   "source": []
  },
  {
   "cell_type": "code",
   "execution_count": 110,
   "metadata": {},
   "outputs": [
    {
     "data": {
      "image/png": "[encoded data removed]",
      "text/plain": [
       "<Figure size 1152x216 with 1 Axes>"
      ]
     },
     "metadata": {},
     "output_type": "display_data"
    }
   ],
   "source": [
    "fig, ax = plt.subplots(1, figsize=(16, 3))\n",
    "\n",
    "ax.scatter(mj_pt, np.repeat(0, len(mj_pt)) + np.random.normal(0, 0.1, len(mj_pt)), s=45)\n",
    "ax.scatter(leb_pts, np.repeat(1, len(leb_pts)) + np.random.normal(0, 0.1, len(leb_pts)), s=45)\n",
    "ax.set_yticks([0, 1])\n",
    "ax.set_yticklabels([\"MJ\", \"LeBron\"])\n",
    "ax.set_xlabel('Number of Points in a Game',fontsize=14)\n",
    "ax.set_title('Career Points ',fontsize=20)\n",
    "plt.savefig('Lebron MJ Total career points')"
   ]
  },
  {
   "cell_type": "code",
   "execution_count": 111,
   "metadata": {},
   "outputs": [
    {
     "name": "stdout",
     "output_type": "stream",
     "text": [
      "MannwhitneyuResult(statistic=1080113.5, pvalue=4.141998780208815e-20)\n",
      "p-value for MJ scoring less than Lebron: 0.000\n"
     ]
    }
   ],
   "source": [
    "r1 = stats.mannwhitneyu(mj_pt, leb_pts, alternative=\"greater\")\n",
    "print(r1)\n",
    "print(\"p-value for MJ scoring less than Lebron: {:2.3f}\".format(r1.pvalue))"
   ]
  },
  {
   "cell_type": "code",
   "execution_count": 112,
   "metadata": {},
   "outputs": [
    {
     "data": {
      "image/png": "[encoded data removed]",
      "text/plain": [
       "<Figure size 864x504 with 1 Axes>"
      ]
     },
     "metadata": {},
     "output_type": "display_data"
    }
   ],
   "source": [
    "green_diamond = dict(markerfacecolor='g', marker='D')\n",
    "fig, ax = plt.subplots(1, figsize=(12, 7))\n",
    "b1 = np.linspace(0,17,17)\n",
    "ax.boxplot([mj_full['AST'],leb_ast],notch=True,flierprops=green_diamond,vert=False,patch_artist=True)\n",
    "# ax.hist(leb_ast,alpha=0.5)\n",
    "# ax.set_xlim(xmin=0)\n",
    "ax.set_yticklabels(['MJ','Lebron James'],fontsize=15)\n",
    "# ax.bar(leb_blk,len(leb_blk),alpha=0.5)\n",
    "#ax.legend(['MJ','Lebron'])\n",
    "ax.set_title('MJ vs Lebron Assists Per Game',fontsize=20)\n",
    "ax.set_xlabel('Assists',fontsize=15)\n",
    "plt.savefig('MJ Lebron Assists Per game')"
   ]
  },
  {
   "cell_type": "code",
   "execution_count": 113,
   "metadata": {},
   "outputs": [
    {
     "name": "stdout",
     "output_type": "stream",
     "text": [
      "MannwhitneyuResult(statistic=904453.0, pvalue=0.3815065662851238)\n",
      "p-value for MJ having rebounds blocks than Lebron: 0.382\n"
     ]
    }
   ],
   "source": [
    "r5 = stats.mannwhitneyu(mj_blk, leb_blk, alternative=\"greater\")\n",
    "print(r5)\n",
    "print(\"p-value for MJ having rebounds blocks than Lebron: {:2.3f}\".format(r5.pvalue))"
   ]
  },
  {
   "cell_type": "code",
   "execution_count": 114,
   "metadata": {},
   "outputs": [
    {
     "name": "stdout",
     "output_type": "stream",
     "text": [
      "MannwhitneyuResult(statistic=563292.0, pvalue=1.0)\n",
      "p-value for MJ scoring less than Lebron: 1.000\n"
     ]
    }
   ],
   "source": [
    "r3 = stats.mannwhitneyu(mj_ast, leb_ast, alternative=\"greater\")\n",
    "print(r3)\n",
    "print(\"p-value for MJ scoring less than Lebron: {:2.3f}\".format(r3.pvalue))"
   ]
  },
  {
   "cell_type": "code",
   "execution_count": null,
   "metadata": {},
   "outputs": [],
   "source": []
  },
  {
   "cell_type": "code",
   "execution_count": null,
   "metadata": {},
   "outputs": [],
   "source": []
  }
 ],
 "metadata": {
  "kernelspec": {
   "display_name": "Python 3",
   "language": "python",
   "name": "python3"
  },
  "language_info": {
   "codemirror_mode": {
    "name": "ipython",
    "version": 3
   },
   "file_extension": ".py",
   "mimetype": "text/x-python",
   "name": "python",
   "nbconvert_exporter": "python",
   "pygments_lexer": "ipython3",
   "version": "3.7.7"
  }
 },
 "nbformat": 4,
 "nbformat_minor": 4
}
